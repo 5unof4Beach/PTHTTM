{
 "cells": [
  {
   "cell_type": "code",
   "execution_count": 3,
   "id": "99da5eeb",
   "metadata": {},
   "outputs": [
    {
     "name": "stdout",
     "output_type": "stream",
     "text": [
      "[0 1 2 3 4 5 6 7 8 9]\n",
      "(10,)\n"
     ]
    }
   ],
   "source": [
    "#Extending Python Using NumPy\n",
    "import numpy as np\n",
    "a1 = np.arange(10) # creates a range from 0 to 9\n",
    "print(a1) # [0 1 2 3 4 5 6 7 8 9]\n",
    "print(a1.shape) # (10,)"
   ]
  },
  {
   "cell_type": "code",
   "execution_count": 4,
   "id": "e84dfd77",
   "metadata": {},
   "outputs": [
    {
     "name": "stdout",
     "output_type": "stream",
     "text": [
      "[0 2 4 6 8]\n"
     ]
    }
   ],
   "source": [
    "a2 = np.arange(0,10,2) # creates a range from 0 to 9, step 2\n",
    "print(a2) # [0 2 4 6 8]"
   ]
  },
  {
   "cell_type": "code",
   "execution_count": 5,
   "id": "e341ebb8",
   "metadata": {},
   "outputs": [
    {
     "name": "stdout",
     "output_type": "stream",
     "text": [
      "[0. 0. 0. 0. 0.]\n",
      "(5,)\n"
     ]
    }
   ],
   "source": [
    "a3 = np.zeros(5) # create an array with all 0s\n",
    "print(a3) # [ 0. 0. 0. 0. 0.]\n",
    "print(a3.shape) # (5,)"
   ]
  },
  {
   "cell_type": "code",
   "execution_count": 6,
   "id": "044351cb",
   "metadata": {},
   "outputs": [
    {
     "name": "stdout",
     "output_type": "stream",
     "text": [
      "(2, 3)\n",
      "[[0. 0. 0.]\n",
      " [0. 0. 0.]]\n"
     ]
    },
    {
     "data": {
      "text/plain": [
       "'\\n[[ 0. 0. 0.]\\n[ 0. 0. 0.]]\\n'"
      ]
     },
     "execution_count": 6,
     "metadata": {},
     "output_type": "execute_result"
    }
   ],
   "source": [
    "a4 = np.zeros((2,3)) # array of rank 2 with all 0s; 2 rows and 3\n",
    "# columns\n",
    "print(a4.shape) # (2,3)\n",
    "print(a4)\n",
    "'''\n",
    "[[ 0. 0. 0.]\n",
    "[ 0. 0. 0.]]\n",
    "'''"
   ]
  },
  {
   "cell_type": "code",
   "execution_count": 7,
   "id": "dc0092a3",
   "metadata": {},
   "outputs": [
    {
     "name": "stdout",
     "output_type": "stream",
     "text": [
      "[[8 8 8]\n",
      " [8 8 8]]\n"
     ]
    },
    {
     "data": {
      "text/plain": [
       "'\\n[[8 8 8]\\n[8 8 8]]\\n'"
      ]
     },
     "execution_count": 7,
     "metadata": {},
     "output_type": "execute_result"
    }
   ],
   "source": [
    "a5 = np.full((2,3), 8) # array of rank 2 with all 8s\n",
    "print(a5)\n",
    "'''\n",
    "[[8 8 8]\n",
    "[8 8 8]]\n",
    "'''"
   ]
  },
  {
   "cell_type": "code",
   "execution_count": 8,
   "id": "b513c1ea",
   "metadata": {},
   "outputs": [
    {
     "name": "stdout",
     "output_type": "stream",
     "text": [
      "[[1. 0. 0. 0.]\n",
      " [0. 1. 0. 0.]\n",
      " [0. 0. 1. 0.]\n",
      " [0. 0. 0. 1.]]\n"
     ]
    },
    {
     "data": {
      "text/plain": [
       "'\\n[[ 1. 0. 0. 0.]\\n[ 0. 1. 0. 0.]\\n[ 0. 0. 1. 0.]\\n[ 0. 0. 0. 1.]]\\n'"
      ]
     },
     "execution_count": 8,
     "metadata": {},
     "output_type": "execute_result"
    }
   ],
   "source": [
    "a6 = np.eye(4) # 4x4 identity matrix\n",
    "print(a6)\n",
    "'''\n",
    "[[ 1. 0. 0. 0.]\n",
    "[ 0. 1. 0. 0.]\n",
    "[ 0. 0. 1. 0.]\n",
    "[ 0. 0. 0. 1.]]\n",
    "'''"
   ]
  },
  {
   "cell_type": "code",
   "execution_count": 9,
   "id": "14395823",
   "metadata": {},
   "outputs": [
    {
     "name": "stdout",
     "output_type": "stream",
     "text": [
      "[[0.70428901 0.08258746 0.49235223 0.19661493]\n",
      " [0.76987191 0.74759821 0.82964623 0.10358894]]\n"
     ]
    },
    {
     "data": {
      "text/plain": [
       "'\\n[[ 0.48255806 0.23928884 0.99861279 0.4624779 ]\\n[ 0.18721584 0.71287041 0.84619432 0.65990083]]\\n'"
      ]
     },
     "execution_count": 9,
     "metadata": {},
     "output_type": "execute_result"
    }
   ],
   "source": [
    "a7 = np.random.random((2,4)) # rank 2 array (2 rows 4 columns) with\n",
    "# random values\n",
    "# in the half-open interval [0.0, 1.0)\n",
    "print(a7)\n",
    "'''\n",
    "[[ 0.48255806 0.23928884 0.99861279 0.4624779 ]\n",
    "[ 0.18721584 0.71287041 0.84619432 0.65990083]]\n",
    "'''"
   ]
  },
  {
   "cell_type": "code",
   "execution_count": 10,
   "id": "9508b056",
   "metadata": {},
   "outputs": [
    {
     "name": "stdout",
     "output_type": "stream",
     "text": [
      "[1 2 3 4 5]\n"
     ]
    }
   ],
   "source": [
    "list1 = [1,2,3,4,5] # list1 is a list in Python\n",
    "r1 = np.array(list1) # rank 1 array\n",
    "print(r1) # [1 2 3 4 5]"
   ]
  },
  {
   "cell_type": "code",
   "execution_count": 11,
   "id": "fa3efd21",
   "metadata": {},
   "outputs": [
    {
     "name": "stdout",
     "output_type": "stream",
     "text": [
      "1\n",
      "2\n"
     ]
    }
   ],
   "source": [
    "#Array Indexing\n",
    "print(r1[0]) # 1\n",
    "print(r1[1]) # 2"
   ]
  },
  {
   "cell_type": "code",
   "execution_count": 12,
   "id": "0426ecba",
   "metadata": {},
   "outputs": [
    {
     "name": "stdout",
     "output_type": "stream",
     "text": [
      "[[1 2 3 4 5]\n",
      " [6 7 8 9 0]]\n",
      "(2, 5)\n",
      "1\n",
      "2\n",
      "6\n"
     ]
    }
   ],
   "source": [
    "list2 = [6,7,8,9,0]\n",
    "r2 = np.array([list1,list2]) # rank 2 array\n",
    "print(r2)\n",
    "'''\n",
    "[[1 2 3 4 5]\n",
    "[6 7 8 9 0]]\n",
    "'''\n",
    "print(r2.shape) # (2,5) - 2 rows and 5 columns\n",
    "print(r2[0,0]) # 1\n",
    "print(r2[0,1]) # 2\n",
    "print(r2[1,0]) # 6"
   ]
  },
  {
   "cell_type": "code",
   "execution_count": 13,
   "id": "ea23a320",
   "metadata": {},
   "outputs": [
    {
     "name": "stdout",
     "output_type": "stream",
     "text": [
      "[3 5]\n"
     ]
    }
   ],
   "source": [
    "list1 = [1,2,3,4,5]\n",
    "r1 = np.array(list1)\n",
    "print(r1[[2,4]]) # [3 5]"
   ]
  },
  {
   "cell_type": "code",
   "execution_count": 14,
   "id": "a02883af",
   "metadata": {},
   "outputs": [
    {
     "name": "stdout",
     "output_type": "stream",
     "text": [
      "[False False  True  True  True]\n"
     ]
    }
   ],
   "source": [
    "#Boolean Indexing\n",
    "print(r1>2) # [False False True True True]"
   ]
  },
  {
   "cell_type": "code",
   "execution_count": 15,
   "id": "92778846",
   "metadata": {},
   "outputs": [
    {
     "name": "stdout",
     "output_type": "stream",
     "text": [
      "[3 4 5]\n"
     ]
    }
   ],
   "source": [
    "print(r1[r1>2]) # [3 4 5]"
   ]
  },
  {
   "cell_type": "code",
   "execution_count": 17,
   "id": "264e5ab8",
   "metadata": {},
   "outputs": [
    {
     "name": "stdout",
     "output_type": "stream",
     "text": [
      "[ 0  1  2  3  4  5  6  7  8  9 10 11 12 13 14 15 16 17 18 19]\n"
     ]
    }
   ],
   "source": [
    "nums = np.arange(20)\n",
    "print(nums) # [ 0 1 2 3 4 5 6 7 8 9 10 11 12 13 14 15 16 17 18 19]"
   ]
  },
  {
   "cell_type": "code",
   "execution_count": 18,
   "id": "4760b482",
   "metadata": {},
   "outputs": [
    {
     "name": "stdout",
     "output_type": "stream",
     "text": [
      "[ 1  3  5  7  9 11 13 15 17 19]\n"
     ]
    }
   ],
   "source": [
    "odd_num = nums[nums % 2 == 1]\n",
    "print(odd_num) # [ 1 3 5 7 9 11 13 15 17 19]"
   ]
  },
  {
   "cell_type": "code",
   "execution_count": 19,
   "id": "4f59dcf4",
   "metadata": {},
   "outputs": [
    {
     "name": "stdout",
     "output_type": "stream",
     "text": [
      "[[1 2 3 4 5]\n",
      " [4 5 6 7 8]\n",
      " [9 8 7 6 5]]\n"
     ]
    },
    {
     "data": {
      "text/plain": [
       "'\\n[[1 2 3 4 5]\\n[4 5 6 7 8]\\n[9 8 7 6 5]]\\n'"
      ]
     },
     "execution_count": 19,
     "metadata": {},
     "output_type": "execute_result"
    }
   ],
   "source": [
    "#Slicing Arrays\n",
    "a = np.array([[1,2,3,4,5],\n",
    "[4,5,6,7,8],\n",
    "[9,8,7,6,5]]) # rank 2 array\n",
    "print(a)\n",
    "'''\n",
    "[[1 2 3 4 5]\n",
    "[4 5 6 7 8]\n",
    "[9 8 7 6 5]]\n",
    "'''"
   ]
  },
  {
   "cell_type": "code",
   "execution_count": 20,
   "id": "d43b9fab",
   "metadata": {},
   "outputs": [
    {
     "name": "stdout",
     "output_type": "stream",
     "text": [
      "[[4 5 6]\n",
      " [9 8 7]]\n"
     ]
    }
   ],
   "source": [
    "b1 = a[1:3, :3] # row 1 to 3 (not inclusive) and first 3 columns\n",
    "print(b1)"
   ]
  },
  {
   "cell_type": "code",
   "execution_count": 21,
   "id": "ba649c59",
   "metadata": {},
   "outputs": [
    {
     "name": "stdout",
     "output_type": "stream",
     "text": [
      "[[7 8]\n",
      " [6 5]]\n"
     ]
    }
   ],
   "source": [
    "b2 = a[-2:,-2:]\n",
    "print(b2)"
   ]
  },
  {
   "cell_type": "code",
   "execution_count": 22,
   "id": "37672a72",
   "metadata": {},
   "outputs": [
    {
     "name": "stdout",
     "output_type": "stream",
     "text": [
      "[[6 7 8]\n",
      " [7 6 5]]\n"
     ]
    }
   ],
   "source": [
    "b3 = a[1:, 2:] # row 1 onwards and column 2 onwards\n",
    "# b3 is now pointing to a subset of a\n",
    "print(b3)"
   ]
  },
  {
   "cell_type": "code",
   "execution_count": 23,
   "id": "603328ac",
   "metadata": {},
   "outputs": [
    {
     "name": "stdout",
     "output_type": "stream",
     "text": [
      "[[ 1  2  3  4  5]\n",
      " [ 4  5  6  7 88]\n",
      " [ 9  8  7  6  5]]\n"
     ]
    }
   ],
   "source": [
    "b3[0,2] = 88 # b3[0,2] is pointing to a[1,4]; modifying it will\n",
    "# modify the original array\n",
    "print(a)"
   ]
  },
  {
   "cell_type": "code",
   "execution_count": 24,
   "id": "d6a9e98e",
   "metadata": {},
   "outputs": [
    {
     "name": "stdout",
     "output_type": "stream",
     "text": [
      "[[9 8 7 6 5]]\n",
      "(1, 5)\n"
     ]
    }
   ],
   "source": [
    "b4 = a[2:, :] # row 2 onwards and all columns\n",
    "print(b4)\n",
    "print(b4.shape)"
   ]
  },
  {
   "cell_type": "code",
   "execution_count": 25,
   "id": "3afa6b48",
   "metadata": {},
   "outputs": [
    {
     "name": "stdout",
     "output_type": "stream",
     "text": [
      "[9 8 7 6 5]\n"
     ]
    }
   ],
   "source": [
    "b5 = a[2, :] # row 2 and all columns\n",
    "print(b5) # b5 is rank 1"
   ]
  },
  {
   "cell_type": "code",
   "execution_count": 26,
   "id": "2d3029c0",
   "metadata": {},
   "outputs": [
    {
     "name": "stdout",
     "output_type": "stream",
     "text": [
      "(5,)\n"
     ]
    }
   ],
   "source": [
    "print(b5.shape) # (5,)"
   ]
  },
  {
   "cell_type": "code",
   "execution_count": 27,
   "id": "cd89251e",
   "metadata": {},
   "outputs": [
    {
     "name": "stdout",
     "output_type": "stream",
     "text": [
      "[[9 8 7 6 5]]\n"
     ]
    },
    {
     "data": {
      "text/plain": [
       "'\\n[[9 8 7 6 5]]\\n'"
      ]
     },
     "execution_count": 27,
     "metadata": {},
     "output_type": "execute_result"
    }
   ],
   "source": [
    "b5 = b5.reshape(1,-1)\n",
    "print(b5)\n",
    "'''\n",
    "[[9 8 7 6 5]]\n",
    "'''"
   ]
  },
  {
   "cell_type": "code",
   "execution_count": 28,
   "id": "4957ed5c",
   "metadata": {},
   "outputs": [
    {
     "data": {
      "text/plain": [
       "'\\n[9 8 7 6 5]\\n'"
      ]
     },
     "execution_count": 28,
     "metadata": {},
     "output_type": "execute_result"
    }
   ],
   "source": [
    "b4.reshape(-1,)\n",
    "'''\n",
    "[9 8 7 6 5]\n",
    "'''"
   ]
  },
  {
   "cell_type": "code",
   "execution_count": 29,
   "id": "4e93e72f",
   "metadata": {},
   "outputs": [
    {
     "name": "stdout",
     "output_type": "stream",
     "text": [
      "[[ 8 10 12]\n",
      " [ 6  8 10]]\n"
     ]
    }
   ],
   "source": [
    "#Array Math\n",
    "x1 = np.array([[1,2,3],[4,5,6]])\n",
    "y1 = np.array([[7,8,9],[2,3,4]])\n",
    "print(x1 + y1)"
   ]
  },
  {
   "cell_type": "code",
   "execution_count": 30,
   "id": "a6215f68",
   "metadata": {},
   "outputs": [
    {
     "data": {
      "text/plain": [
       "'\\n[6 5]\\n'"
      ]
     },
     "execution_count": 30,
     "metadata": {},
     "output_type": "execute_result"
    }
   ],
   "source": [
    "x = np.array([2,3])\n",
    "y = np.array([4,2])\n",
    "z = x + y\n",
    "'''\n",
    "[6 5]\n",
    "'''"
   ]
  },
  {
   "cell_type": "code",
   "execution_count": 31,
   "id": "6797ac37",
   "metadata": {},
   "outputs": [
    {
     "name": "stdout",
     "output_type": "stream",
     "text": [
      "[[-6 -6 -6]\n",
      " [ 2  2  2]]\n",
      "[[ 7 16 27]\n",
      " [ 8 15 24]]\n",
      "[[0.14285714 0.25       0.33333333]\n",
      " [2.         1.66666667 1.5       ]]\n"
     ]
    },
    {
     "data": {
      "text/plain": [
       "'\\n[[ 0.14285714 0.25 0.33333333]\\n[ 2. 1.66666667 1.5 ]]\\n'"
      ]
     },
     "execution_count": 31,
     "metadata": {},
     "output_type": "execute_result"
    }
   ],
   "source": [
    "np.add(x1,y1)\n",
    "print(x1 - y1) # same as np.subtract(x1,y1)\n",
    "'''\n",
    "[[-6 -6 -6]\n",
    "[ 2 2 2]]\n",
    "'''\n",
    "print(x1 * y1) # same as np.multiply(x1,y1)\n",
    "'''\n",
    "[[ 7 16 27]\n",
    "[ 8 15 24]]\n",
    "'''\n",
    "print(x1 / y1) # same as np.divide(x1,y1)\n",
    "'''\n",
    "[[ 0.14285714 0.25 0.33333333]\n",
    "[ 2. 1.66666667 1.5 ]]\n",
    "'''"
   ]
  },
  {
   "cell_type": "code",
   "execution_count": 33,
   "id": "e46069c5",
   "metadata": {},
   "outputs": [
    {
     "name": "stdout",
     "output_type": "stream",
     "text": [
      "[28.88888889 14.51836889 23.046875  ]\n"
     ]
    }
   ],
   "source": [
    "names = np.array(['Ann','Joe','Mark'])\n",
    "heights = np.array([1.5, 1.78, 1.6])\n",
    "weights = np.array([65, 46, 59])\n",
    "bmi = weights/heights **2 # calculate the BMI\n",
    "print(bmi) # [ 28.88888889 14.5183688923.046875 ]"
   ]
  },
  {
   "cell_type": "code",
   "execution_count": 34,
   "id": "bac7e07a",
   "metadata": {},
   "outputs": [
    {
     "name": "stdout",
     "output_type": "stream",
     "text": [
      "Overweight:  ['Ann']\n",
      "Underweight:  ['Joe']\n",
      "Healthy:  ['Mark']\n"
     ]
    }
   ],
   "source": [
    "print(\"Overweight: \" , names[bmi>25])\n",
    "# Overweight: ['Ann']\n",
    "print(\"Underweight: \" , names[bmi<18.5])\n",
    "# Underweight: ['Joe']\n",
    "print(\"Healthy: \" , names[(bmi>=18.5) & (bmi<=25)])\n",
    "# Healthy: ['Mark']"
   ]
  },
  {
   "cell_type": "code",
   "execution_count": 35,
   "id": "22a76028",
   "metadata": {},
   "outputs": [
    {
     "name": "stdout",
     "output_type": "stream",
     "text": [
      "[[ 58  64]\n",
      " [139 154]]\n"
     ]
    },
    {
     "data": {
      "text/plain": [
       "'\\n[[ 58 64]\\n[139 154]]\\n'"
      ]
     },
     "execution_count": 35,
     "metadata": {},
     "output_type": "execute_result"
    }
   ],
   "source": [
    "#Dot Product\n",
    "\n",
    "x = np.array([2,3])\n",
    "y = np.array([4,2])\n",
    "np.dot(x,y) # 2x4 + 3x2 = 14\n",
    "x2 = np.array([[1,2,3],[4,5,6]])\n",
    "y2 = np.array([[7,8],[9,10], [11,12]])\n",
    "print(np.dot(x2,y2)) # matrix multiplication\n",
    "'''\n",
    "[[ 58 64]\n",
    "[139 154]]\n",
    "'''"
   ]
  },
  {
   "cell_type": "code",
   "execution_count": 36,
   "id": "e91460de",
   "metadata": {},
   "outputs": [
    {
     "name": "stdout",
     "output_type": "stream",
     "text": [
      "[[ 7 16]\n",
      " [ 8 15]]\n",
      "[[11 14]\n",
      " [38 47]]\n"
     ]
    },
    {
     "data": {
      "text/plain": [
       "'\\n[[11 14]\\n[38 47]]\\n'"
      ]
     },
     "execution_count": 36,
     "metadata": {},
     "output_type": "execute_result"
    }
   ],
   "source": [
    "#Matrix\n",
    "\n",
    "x2 = np.matrix([[1,2],[4,5]])\n",
    "y2 = np.matrix([[7,8],[2,3]])\n",
    "x1 = np.array([[1,2],[4,5]])\n",
    "y1 = np.array([[7,8],[2,3]])\n",
    "x1 = np.asmatrix(x1)\n",
    "y1 = np.asmatrix(y1)\n",
    "x1 = np.array([[1,2],[4,5]])\n",
    "y1 = np.array([[7,8],[2,3]])\n",
    "print(x1 * y1) # element-by-element multiplication\n",
    "'''\n",
    "[[ 7 16]\n",
    "[ 8 15]]\n",
    "'''\n",
    "x2 = np.matrix([[1,2],[4,5]])\n",
    "y2 = np.matrix([[7,8],[2,3]])\n",
    "print(x2 * y2) # dot product; same as np.dot()\n",
    "'''\n",
    "[[11 14]\n",
    "[38 47]]\n",
    "'''"
   ]
  },
  {
   "cell_type": "code",
   "execution_count": 37,
   "id": "6f03ee97",
   "metadata": {},
   "outputs": [
    {
     "name": "stdout",
     "output_type": "stream",
     "text": [
      "[[1 2 3]\n",
      " [4 5 6]\n",
      " [7 8 9]]\n",
      "[ 1  3  6 10 15 21 28 36 45]\n"
     ]
    }
   ],
   "source": [
    "#Cumulative Sum\n",
    "a = np.array([(1,2,3),(4,5,6), (7,8,9)])\n",
    "print(a)\n",
    "'''\n",
    "[[1 2 3]\n",
    "[4 5 6]\n",
    "[7 8 9]]\n",
    "'''\n",
    "print(a.cumsum()) # prints the cumulative sum of all the\n",
    "# elements in the array\n",
    "# [ 1 3 6 10 15 21 28 36 45]"
   ]
  },
  {
   "cell_type": "code",
   "execution_count": 40,
   "id": "d9ed6485",
   "metadata": {},
   "outputs": [
    {
     "name": "stdout",
     "output_type": "stream",
     "text": [
      "[[ 1  2  3]\n",
      " [ 5  7  9]\n",
      " [12 15 18]]\n"
     ]
    },
    {
     "data": {
      "text/plain": [
       "'\\n[[ 1 2 3]\\n[ 5 7 9]\\n[12 15 18]]\\n'"
      ]
     },
     "execution_count": 40,
     "metadata": {},
     "output_type": "execute_result"
    }
   ],
   "source": [
    "print(a.cumsum(axis=0)) # sum over rows for each of the 3 columns\n",
    "'''\n",
    "[[ 1 2 3]\n",
    "[ 5 7 9]\n",
    "[12 15 18]]\n",
    "'''"
   ]
  },
  {
   "cell_type": "code",
   "execution_count": 41,
   "id": "1bb52fbb",
   "metadata": {},
   "outputs": [
    {
     "name": "stdout",
     "output_type": "stream",
     "text": [
      "[[ 1  3  6]\n",
      " [ 4  9 15]\n",
      " [ 7 15 24]]\n"
     ]
    },
    {
     "data": {
      "text/plain": [
       "'\\n[[ 1 3 6]\\n[ 4 9 15]\\n[ 7 15 24]]\\n'"
      ]
     },
     "execution_count": 41,
     "metadata": {},
     "output_type": "execute_result"
    }
   ],
   "source": [
    "print(a.cumsum(axis=1)) # sum over columns for each of the 3 rows\n",
    "'''\n",
    "[[ 1 3 6]\n",
    "[ 4 9 15]\n",
    "[ 7 15 24]]\n",
    "'''"
   ]
  },
  {
   "cell_type": "code",
   "execution_count": 42,
   "id": "ab1c13fc",
   "metadata": {},
   "outputs": [
    {
     "name": "stdout",
     "output_type": "stream",
     "text": [
      "[ 5 12 13 34 37]\n",
      "[34 12 37  5 13]\n"
     ]
    }
   ],
   "source": [
    "#NumPy Sorting\n",
    "ages = np.array([34,12,37,5,13])\n",
    "sorted_ages = np.sort(ages) # does not modify the original array\n",
    "print(sorted_ages) # [ 5 12 13 34 37]\n",
    "print(ages) # [34 12 37 5 13]"
   ]
  },
  {
   "cell_type": "code",
   "execution_count": 43,
   "id": "05988257",
   "metadata": {},
   "outputs": [
    {
     "name": "stdout",
     "output_type": "stream",
     "text": [
      "[ 5 12 13 34 37]\n"
     ]
    }
   ],
   "source": [
    "ages.sort() # modifies the array\n",
    "print(ages) # [ 5 12 13 34 37]"
   ]
  },
  {
   "cell_type": "code",
   "execution_count": 44,
   "id": "faa8e10a",
   "metadata": {},
   "outputs": [
    {
     "name": "stdout",
     "output_type": "stream",
     "text": [
      "[3 1 4 0 2]\n"
     ]
    }
   ],
   "source": [
    "ages = np.array([34,12,37,5,13])\n",
    "print(ages.argsort()) # [3 1 4 0 2]"
   ]
  },
  {
   "cell_type": "code",
   "execution_count": 45,
   "id": "578b6491",
   "metadata": {},
   "outputs": [
    {
     "name": "stdout",
     "output_type": "stream",
     "text": [
      "[ 5 12 13 34 37]\n"
     ]
    }
   ],
   "source": [
    "print(ages[ages.argsort()]) # [ 5 12 13 34 37]"
   ]
  },
  {
   "cell_type": "code",
   "execution_count": 47,
   "id": "54ffc4d5",
   "metadata": {},
   "outputs": [
    {
     "name": "stdout",
     "output_type": "stream",
     "text": [
      "['Will' 'Mary' 'Joe' 'Johnny' 'Peter']\n",
      "[ 5 12 13 34 37]\n",
      "[0.5  1.2  1.25 1.76 1.68]\n"
     ]
    }
   ],
   "source": [
    "persons = np.array(['Johnny','Mary','Peter','Will','Joe'])\n",
    "ages = np.array([34,12,37,5,13])\n",
    "heights = np.array([1.76,1.2,1.68,0.5,1.25])\n",
    "sort_indices = np.argsort(ages) # performs a sort based on ages\n",
    "                                # and returns an array of indices\n",
    "                                # indicating the sort order\n",
    "print(persons[sort_indices]) # ['Will' 'Mary' 'Joe' 'Johnny' 'Peter']\n",
    "print(ages[sort_indices]) # [ 5 12 13 34 37]\n",
    "print(heights[sort_indices]) # [ 0.5 1.2 1.25 1.76 1.68]"
   ]
  },
  {
   "cell_type": "code",
   "execution_count": 48,
   "id": "44305d61",
   "metadata": {},
   "outputs": [
    {
     "name": "stdout",
     "output_type": "stream",
     "text": [
      "['Joe' 'Johnny' 'Mary' 'Peter' 'Will']\n",
      "[13 34 12 37  5]\n",
      "[1.25 1.76 1.2  1.68 0.5 ]\n"
     ]
    }
   ],
   "source": [
    "sort_indices = np.argsort(persons) # sort based on names\n",
    "print(persons[sort_indices]) # ['Joe' 'Johnny' 'Mary' 'Peter' 'Will']\n",
    "print(ages[sort_indices]) # [13 34 12 37 5]\n",
    "print(heights[sort_indices]) # [ 1.25 1.76 1.2 1.68 0.5 ]"
   ]
  },
  {
   "cell_type": "code",
   "execution_count": 49,
   "id": "53f1cc20",
   "metadata": {},
   "outputs": [
    {
     "name": "stdout",
     "output_type": "stream",
     "text": [
      "['Will' 'Peter' 'Mary' 'Johnny' 'Joe']\n",
      "[ 5 37 12 34 13]\n",
      "[0.5  1.68 1.2  1.76 1.25]\n"
     ]
    }
   ],
   "source": [
    "reverse_sort_indices = np.argsort(persons)[::-1] # reverse the order of a list\n",
    "print(persons[reverse_sort_indices]) # ['Will' 'Peter' 'Mary' 'Johnny' 'Joe']\n",
    "print(ages[reverse_sort_indices]) # [ 5 37 12 34 13]\n",
    "print(heights[reverse_sort_indices]) # [ 0.5 1.68 1.2 1.76\n",
    "# 1.25]"
   ]
  },
  {
   "cell_type": "code",
   "execution_count": 50,
   "id": "422fd32d",
   "metadata": {},
   "outputs": [
    {
     "name": "stdout",
     "output_type": "stream",
     "text": [
      "[[1 2 3 4]\n",
      " [5 6 7 8]]\n"
     ]
    },
    {
     "data": {
      "text/plain": [
       "'\\n[[1 2 3 4]\\n[5 6 7 8]]\\n'"
      ]
     },
     "execution_count": 50,
     "metadata": {},
     "output_type": "execute_result"
    }
   ],
   "source": [
    "#Array Assignment\n",
    "list1 = [[1,2,3,4], [5,6,7,8]]\n",
    "a1 = np.array(list1)\n",
    "print(a1)\n",
    "'''\n",
    "[[1 2 3 4]\n",
    "[5 6 7 8]]\n",
    "'''"
   ]
  },
  {
   "cell_type": "code",
   "execution_count": 51,
   "id": "f1ed1763",
   "metadata": {},
   "outputs": [
    {
     "name": "stdout",
     "output_type": "stream",
     "text": [
      "[[1 2 3 4]\n",
      " [5 6 7 8]]\n",
      "[[1 2 3 4]\n",
      " [5 6 7 8]]\n"
     ]
    },
    {
     "data": {
      "text/plain": [
       "'\\n[[1 2 3 4]\\n[5 6 7 8]]\\n'"
      ]
     },
     "execution_count": 51,
     "metadata": {},
     "output_type": "execute_result"
    }
   ],
   "source": [
    "a2 = a1 # creates a copy by reference\n",
    "print(a1)\n",
    "'''\n",
    "[[1 2 3 4]\n",
    "[5 6 7 8]]\n",
    "'''\n",
    "print(a2)\n",
    "'''\n",
    "[[1 2 3 4]\n",
    "[5 6 7 8]]\n",
    "'''"
   ]
  },
  {
   "cell_type": "code",
   "execution_count": 52,
   "id": "f85a79fd",
   "metadata": {},
   "outputs": [
    {
     "name": "stdout",
     "output_type": "stream",
     "text": [
      "[[11  2  3  4]\n",
      " [ 5  6  7  8]]\n",
      "[[11  2  3  4]\n",
      " [ 5  6  7  8]]\n"
     ]
    },
    {
     "data": {
      "text/plain": [
       "'\\n[[11 2 3 4]\\n[ 5 6 7 8]]\\n'"
      ]
     },
     "execution_count": 52,
     "metadata": {},
     "output_type": "execute_result"
    }
   ],
   "source": [
    "a2[0][0] = 11 # make some changes to a2\n",
    "print(a1) # affects a1\n",
    "'''\n",
    "[[11 2 3 4]\n",
    "[ 5 6 7 8]]\n",
    "'''\n",
    "print(a2)\n",
    "'''\n",
    "[[11 2 3 4]\n",
    "[ 5 6 7 8]]\n",
    "'''"
   ]
  },
  {
   "cell_type": "code",
   "execution_count": 53,
   "id": "b5fa30b7",
   "metadata": {},
   "outputs": [
    {
     "name": "stdout",
     "output_type": "stream",
     "text": [
      "[[11  2  3  4  5  6  7  8]]\n",
      "[[11  2  3  4  5  6  7  8]]\n"
     ]
    },
    {
     "data": {
      "text/plain": [
       "'\\n[[11 2 3 4 5 6 7 8]]\\n'"
      ]
     },
     "execution_count": 53,
     "metadata": {},
     "output_type": "execute_result"
    }
   ],
   "source": [
    "a1.shape = 1,-1 # reshape a1\n",
    "print(a1)\n",
    "'''\n",
    "[[11 2 3 4 5 6 7 8]]\n",
    "'''\n",
    "print(a2) # a2 also changes shape\n",
    "'''\n",
    "[[11 2 3 4 5 6 7 8]]\n",
    "'''"
   ]
  },
  {
   "cell_type": "code",
   "execution_count": 54,
   "id": "d4b43fbf",
   "metadata": {},
   "outputs": [
    {
     "name": "stdout",
     "output_type": "stream",
     "text": [
      "[[11  2  3  4  5  6  7  8]]\n",
      "[[11  2  3  4  5  6  7  8]]\n"
     ]
    },
    {
     "data": {
      "text/plain": [
       "'\\n[[1 2 3 4]\\n[5 6 7 8]]\\n'"
      ]
     },
     "execution_count": 54,
     "metadata": {},
     "output_type": "execute_result"
    }
   ],
   "source": [
    "#Copying by View (Shallow Copy)\n",
    "a2 = a1.view() # creates a copy of a1 by reference; but changes\n",
    "# in dimension in a1 will not affect a2\n",
    "print(a1)\n",
    "'''\n",
    "[[1 2 3 4]\n",
    "[5 6 7 8]]\n",
    "'''\n",
    "print(a2)\n",
    "'''\n",
    "[[1 2 3 4]\n",
    "[5 6 7 8]]\n",
    "'''"
   ]
  },
  {
   "cell_type": "code",
   "execution_count": 55,
   "id": "a6f7c179",
   "metadata": {},
   "outputs": [
    {
     "name": "stdout",
     "output_type": "stream",
     "text": [
      "[[11  2  3  4  5  6  7  8]]\n",
      "[[11  2  3  4  5  6  7  8]]\n"
     ]
    },
    {
     "data": {
      "text/plain": [
       "'\\n[[11 2 3 4]\\n[ 5 6 7 8]]\\n'"
      ]
     },
     "execution_count": 55,
     "metadata": {},
     "output_type": "execute_result"
    }
   ],
   "source": [
    "a1[0][0] = 11 # make some changes in a1\n",
    "print(a1)\n",
    "'''\n",
    "[[11 2 3 4]\n",
    "[ 5 6 7 8]]\n",
    "'''\n",
    "print(a2) # changes is also seen in a2\n",
    "'''\n",
    "[[11 2 3 4]\n",
    "[ 5 6 7 8]]\n",
    "'''"
   ]
  },
  {
   "cell_type": "code",
   "execution_count": 56,
   "id": "902a5589",
   "metadata": {},
   "outputs": [
    {
     "name": "stdout",
     "output_type": "stream",
     "text": [
      "[[11  2  3  4  5  6  7  8]]\n"
     ]
    },
    {
     "data": {
      "text/plain": [
       "'\\n[[11 2 3 4 5 6 7 8]]\\n'"
      ]
     },
     "execution_count": 56,
     "metadata": {},
     "output_type": "execute_result"
    }
   ],
   "source": [
    "a1.shape = 1,-1 # change the shape of a1\n",
    "print(a1)\n",
    "'''\n",
    "[[11 2 3 4 5 6 7 8]]\n",
    "'''"
   ]
  },
  {
   "cell_type": "code",
   "execution_count": 57,
   "id": "54b60bc9",
   "metadata": {},
   "outputs": [
    {
     "name": "stdout",
     "output_type": "stream",
     "text": [
      "[[11  2  3  4  5  6  7  8]]\n"
     ]
    },
    {
     "data": {
      "text/plain": [
       "'\\n[[11 2 3 4]\\n[ 5 6 7 8]]\\n'"
      ]
     },
     "execution_count": 57,
     "metadata": {},
     "output_type": "execute_result"
    }
   ],
   "source": [
    "print(a2) # a2 does not change shape\n",
    "'''\n",
    "[[11 2 3 4]\n",
    "[ 5 6 7 8]]\n",
    "'''"
   ]
  },
  {
   "cell_type": "code",
   "execution_count": 59,
   "id": "3571dcfa",
   "metadata": {},
   "outputs": [
    {
     "name": "stdout",
     "output_type": "stream",
     "text": [
      "[[11  2  3  4]\n",
      " [ 5  6  7  8]]\n",
      "[[1 2 3 4]\n",
      " [5 6 7 8]]\n",
      "[[11  2  3  4  5  6  7  8]]\n",
      "[[1 2 3 4]\n",
      " [5 6 7 8]]\n"
     ]
    },
    {
     "data": {
      "text/plain": [
       "'\\n[[1 2 3 4]\\n[5 6 7 8]]\\n'"
      ]
     },
     "execution_count": 59,
     "metadata": {},
     "output_type": "execute_result"
    }
   ],
   "source": [
    "#Copying by Value (Deep Copy)\n",
    "list1 = [[1,2,3,4], [5,6,7,8]]\n",
    "a1 = np.array(list1)\n",
    "a2 = a1.copy() # create a copy of a1 by value (deep copy)\n",
    "a1[0][0] = 11 # make some changes in a1\n",
    "print(a1)\n",
    "'''\n",
    "[[11 2 3 4]\n",
    "[ 5 6 7 8]]\n",
    "'''\n",
    "print(a2) # changes is not seen in a2\n",
    "'''\n",
    "[[1 2 3 4]\n",
    "[5 6 7 8]]\n",
    "'''\n",
    "a1.shape = 1,-1 # change the shape of a1\n",
    "print(a1)\n",
    "'''\n",
    "[[11 2 3 4 5 6 7 8]]\n",
    "'''\n",
    "print(a2) # a2 does not change shape\n",
    "'''\n",
    "[[1 2 3 4]\n",
    "[5 6 7 8]]\n",
    "'''"
   ]
  },
  {
   "cell_type": "code",
   "execution_count": 60,
   "id": "c923b710",
   "metadata": {},
   "outputs": [
    {
     "name": "stdout",
     "output_type": "stream",
     "text": [
      "0    1\n",
      "1    2\n",
      "2    3\n",
      "3    4\n",
      "4    5\n",
      "dtype: int64\n"
     ]
    }
   ],
   "source": [
    "#Manipulating Tabular Data Using Pandas\n",
    "import pandas as pd\n",
    "series = pd.Series([1,2,3,4,5])\n",
    "print(series)"
   ]
  },
  {
   "cell_type": "code",
   "execution_count": 61,
   "id": "0f7e73e0",
   "metadata": {},
   "outputs": [
    {
     "name": "stdout",
     "output_type": "stream",
     "text": [
      "a    1\n",
      "b    2\n",
      "c    3\n",
      "d    4\n",
      "c    5\n",
      "dtype: int64\n"
     ]
    }
   ],
   "source": [
    "series = pd.Series([1,2,3,4,5], index=['a','b','c','d','c'])\n",
    "print(series)"
   ]
  },
  {
   "cell_type": "code",
   "execution_count": 62,
   "id": "1e343842",
   "metadata": {},
   "outputs": [
    {
     "name": "stdout",
     "output_type": "stream",
     "text": [
      "3\n",
      "3\n",
      "4\n",
      "4\n"
     ]
    }
   ],
   "source": [
    "print(series[2]) # 3\n",
    "# same as\n",
    "print(series.iloc[2]) # 3 - based on the position of the index\n",
    "print(series['d']) # 4\n",
    "# same as\n",
    "print(series.loc['d']) # 4 - based on the label in the index"
   ]
  },
  {
   "cell_type": "code",
   "execution_count": 63,
   "id": "12435c37",
   "metadata": {},
   "outputs": [
    {
     "name": "stdout",
     "output_type": "stream",
     "text": [
      "c    3\n",
      "c    5\n",
      "dtype: int64\n"
     ]
    }
   ],
   "source": [
    "print(series['c']) # more than 1 row has the index 'c'"
   ]
  },
  {
   "cell_type": "code",
   "execution_count": 64,
   "id": "3ce56ab7",
   "metadata": {},
   "outputs": [
    {
     "name": "stdout",
     "output_type": "stream",
     "text": [
      "c    3\n",
      "d    4\n",
      "c    5\n",
      "dtype: int64\n",
      "c    3\n",
      "d    4\n",
      "c    5\n",
      "dtype: int64\n"
     ]
    }
   ],
   "source": [
    "print(series[2:]) # returns a Series\n",
    "print(series.iloc[2:]) # returns a Series"
   ]
  },
  {
   "cell_type": "code",
   "execution_count": 65,
   "id": "6b8a60a0",
   "metadata": {},
   "outputs": [
    {
     "name": "stdout",
     "output_type": "stream",
     "text": [
      "DatetimeIndex(['2019-05-25', '2019-05-26', '2019-05-27', '2019-05-28',\n",
      "               '2019-05-29', '2019-05-30', '2019-05-31', '2019-06-01',\n",
      "               '2019-06-02', '2019-06-03', '2019-06-04', '2019-06-05'],\n",
      "              dtype='datetime64[ns]', freq='D')\n"
     ]
    }
   ],
   "source": [
    "dates1 = pd.date_range('20190525', periods=12)\n",
    "print(dates1)"
   ]
  },
  {
   "cell_type": "code",
   "execution_count": 66,
   "id": "c5c06348",
   "metadata": {},
   "outputs": [
    {
     "name": "stdout",
     "output_type": "stream",
     "text": [
      "2019-05-25     1\n",
      "2019-05-26     2\n",
      "2019-05-27     3\n",
      "2019-05-28     4\n",
      "2019-05-29     5\n",
      "2019-05-30     6\n",
      "2019-05-31     7\n",
      "2019-06-01     8\n",
      "2019-06-02     9\n",
      "2019-06-03    10\n",
      "2019-06-04    11\n",
      "2019-06-05    12\n",
      "Freq: D, dtype: int64\n"
     ]
    }
   ],
   "source": [
    "series = pd.Series([1,2,3,4,5,6,7,8,9,10,11,12])\n",
    "series.index = dates1\n",
    "print(series)"
   ]
  },
  {
   "cell_type": "code",
   "execution_count": 67,
   "id": "3f60444c",
   "metadata": {},
   "outputs": [
    {
     "name": "stdout",
     "output_type": "stream",
     "text": [
      "DatetimeIndex(['2019-05-31', '2019-06-30', '2019-07-31', '2019-08-31',\n",
      "               '2019-09-30', '2019-10-31', '2019-11-30', '2019-12-31',\n",
      "               '2020-01-31', '2020-02-29', '2020-03-31', '2020-04-30'],\n",
      "              dtype='datetime64[ns]', freq='M')\n"
     ]
    }
   ],
   "source": [
    "dates2 = pd.date_range('2019-05-01', periods=12, freq='M')\n",
    "print(dates2)"
   ]
  },
  {
   "cell_type": "code",
   "execution_count": 68,
   "id": "4d852022",
   "metadata": {},
   "outputs": [
    {
     "name": "stdout",
     "output_type": "stream",
     "text": [
      "DatetimeIndex(['2019-05-01', '2019-06-01', '2019-07-01', '2019-08-01',\n",
      "               '2019-09-01', '2019-10-01', '2019-11-01', '2019-12-01',\n",
      "               '2020-01-01', '2020-02-01', '2020-03-01', '2020-04-01'],\n",
      "              dtype='datetime64[ns]', freq='MS')\n"
     ]
    }
   ],
   "source": [
    "dates2 = pd.date_range('2019-05-01', periods=12, freq='MS')\n",
    "print(dates2)"
   ]
  },
  {
   "cell_type": "code",
   "execution_count": 69,
   "id": "6807fc40",
   "metadata": {},
   "outputs": [
    {
     "name": "stdout",
     "output_type": "stream",
     "text": [
      "DatetimeIndex(['2019-05-01', '2019-06-01', '2019-07-01', '2019-08-01',\n",
      "               '2019-09-01', '2019-10-01', '2019-11-01', '2019-12-01',\n",
      "               '2020-01-01', '2020-02-01', '2020-03-01', '2020-04-01'],\n",
      "              dtype='datetime64[ns]', freq='MS')\n"
     ]
    }
   ],
   "source": [
    "dates2 = pd.date_range('05-01-2019', periods=12, freq='MS')\n",
    "print(dates2)"
   ]
  },
  {
   "cell_type": "code",
   "execution_count": 70,
   "id": "e644a44a",
   "metadata": {},
   "outputs": [
    {
     "name": "stdout",
     "output_type": "stream",
     "text": [
      "DatetimeIndex(['2019-05-17 09:00:00', '2019-05-17 10:00:00',\n",
      "               '2019-05-17 11:00:00', '2019-05-17 12:00:00',\n",
      "               '2019-05-17 13:00:00', '2019-05-17 14:00:00',\n",
      "               '2019-05-17 15:00:00', '2019-05-17 16:00:00'],\n",
      "              dtype='datetime64[ns]', freq='H')\n"
     ]
    }
   ],
   "source": [
    "dates3 = pd.date_range('2019/05/17 09:00:00', periods=8, freq='H')\n",
    "print(dates3)"
   ]
  },
  {
   "cell_type": "code",
   "execution_count": 71,
   "id": "692dc909",
   "metadata": {},
   "outputs": [
    {
     "name": "stdout",
     "output_type": "stream",
     "text": [
      "          A         B         C         D\n",
      "0 -0.566075  0.498494 -1.446345  0.487401\n",
      "1 -2.229513 -0.606873 -1.344802 -0.668431\n",
      "2 -0.224843 -0.591903  1.001144  1.410119\n",
      "3  1.609676  0.253058  1.644850 -1.155906\n",
      "4 -1.892691 -1.114251  2.534951 -0.429477\n",
      "5 -0.410477  2.180497  1.162267  0.382338\n",
      "6 -2.013120  1.895872  0.917193  0.219115\n",
      "7 -0.832448 -1.273995  0.870223 -0.048880\n",
      "8 -1.097571 -1.477400  0.724917  0.496301\n",
      "9 -0.622442 -1.192279 -0.329813 -0.460067\n"
     ]
    }
   ],
   "source": [
    "import pandas as pd\n",
    "import numpy as np\n",
    "df = pd.DataFrame(np.random.randn(10,4),\n",
    "columns=list('ABCD'))\n",
    "print(df)"
   ]
  },
  {
   "cell_type": "code",
   "execution_count": 74,
   "id": "58cd8dd1",
   "metadata": {},
   "outputs": [
    {
     "name": "stdout",
     "output_type": "stream",
     "text": [
      "                   A         B         C         D\n",
      "2019-05-25  0.187497  1.122150 -0.988277 -1.985934\n",
      "2019-05-26  0.360803 -0.562243 -0.340693 -0.986988\n",
      "2019-05-27 -0.040627  0.067333 -0.452978  0.686223\n",
      "2019-05-28 -0.279572 -0.702492  0.252265  0.958977\n",
      "2019-05-29  0.537438 -1.737568  0.714727 -0.939288\n",
      "2019-05-30  0.070011 -0.516443 -1.655689  0.246721\n",
      "2019-05-31  0.001268  0.951517  2.107360 -0.108726\n",
      "2019-06-01 -0.185258  0.856520 -0.686285  1.104195\n",
      "2019-06-02  0.387023  1.706336 -2.452653  0.260466\n",
      "2019-06-03 -1.054974  0.556775 -0.945219 -0.030295\n"
     ]
    }
   ],
   "source": [
    "df = pd.read_csv('D://HTTM//data.csv')\n",
    "days = pd.date_range('20190525', periods=10)\n",
    "df.index = days\n",
    "print(df)"
   ]
  },
  {
   "cell_type": "code",
   "execution_count": 75,
   "id": "c52055dc",
   "metadata": {},
   "outputs": [
    {
     "name": "stdout",
     "output_type": "stream",
     "text": [
      "DatetimeIndex(['2019-05-25', '2019-05-26', '2019-05-27', '2019-05-28',\n",
      "               '2019-05-29', '2019-05-30', '2019-05-31', '2019-06-01',\n",
      "               '2019-06-02', '2019-06-03'],\n",
      "              dtype='datetime64[ns]', freq='D')\n"
     ]
    }
   ],
   "source": [
    "print(df.index)"
   ]
  },
  {
   "cell_type": "code",
   "execution_count": 76,
   "id": "bde471dc",
   "metadata": {},
   "outputs": [
    {
     "name": "stdout",
     "output_type": "stream",
     "text": [
      "[[ 1.874970e-01  1.122150e+00 -9.882770e-01 -1.985934e+00]\n",
      " [ 3.608030e-01 -5.622430e-01 -3.406930e-01 -9.869880e-01]\n",
      " [-4.062700e-02  6.733300e-02 -4.529780e-01  6.862230e-01]\n",
      " [-2.795720e-01 -7.024920e-01  2.522650e-01  9.589770e-01]\n",
      " [ 5.374380e-01 -1.737568e+00  7.147270e-01 -9.392880e-01]\n",
      " [ 7.001100e-02 -5.164430e-01 -1.655689e+00  2.467210e-01]\n",
      " [ 1.268000e-03  9.515170e-01  2.107360e+00 -1.087260e-01]\n",
      " [-1.852580e-01  8.565200e-01 -6.862850e-01  1.104195e+00]\n",
      " [ 3.870230e-01  1.706336e+00 -2.452653e+00  2.604660e-01]\n",
      " [-1.054974e+00  5.567750e-01 -9.452190e-01 -3.029500e-02]]\n"
     ]
    }
   ],
   "source": [
    "print(df.values)"
   ]
  },
  {
   "cell_type": "code",
   "execution_count": 77,
   "id": "6c6f79c0",
   "metadata": {},
   "outputs": [
    {
     "name": "stdout",
     "output_type": "stream",
     "text": [
      "               A          B          C          D\n",
      "count  10.000000  10.000000  10.000000  10.000000\n",
      "mean   -0.001639   0.174188  -0.444744  -0.079465\n",
      "std     0.451656   1.049677   1.267397   0.971164\n",
      "min    -1.054974  -1.737568  -2.452653  -1.985934\n",
      "25%    -0.149100  -0.550793  -0.977513  -0.731648\n",
      "50%     0.035640   0.312054  -0.569632   0.108213\n",
      "75%     0.317476   0.927768   0.104025   0.579784\n",
      "max     0.537438   1.706336   2.107360   1.104195\n"
     ]
    }
   ],
   "source": [
    "print(df.describe())"
   ]
  },
  {
   "cell_type": "code",
   "execution_count": 78,
   "id": "705e248e",
   "metadata": {},
   "outputs": [
    {
     "name": "stdout",
     "output_type": "stream",
     "text": [
      "A   -0.001639\n",
      "B    0.174188\n",
      "C   -0.444744\n",
      "D   -0.079465\n",
      "dtype: float64\n"
     ]
    }
   ],
   "source": [
    "print(df.mean(0)) # 0 means compute the mean for each columns"
   ]
  },
  {
   "cell_type": "code",
   "execution_count": 79,
   "id": "08db226d",
   "metadata": {},
   "outputs": [
    {
     "name": "stdout",
     "output_type": "stream",
     "text": [
      "2019-05-25   -0.416141\n",
      "2019-05-26   -0.382280\n",
      "2019-05-27    0.064988\n",
      "2019-05-28    0.057294\n",
      "2019-05-29   -0.356173\n",
      "2019-05-30   -0.463850\n",
      "2019-05-31    0.737855\n",
      "2019-06-01    0.272293\n",
      "2019-06-02   -0.024707\n",
      "2019-06-03   -0.368428\n",
      "Freq: D, dtype: float64\n"
     ]
    }
   ],
   "source": [
    "print(df.mean(1)) # 1 means compute the mean for each row"
   ]
  },
  {
   "cell_type": "code",
   "execution_count": 80,
   "id": "dcb023a3",
   "metadata": {},
   "outputs": [
    {
     "name": "stdout",
     "output_type": "stream",
     "text": [
      "                   A         B         C         D\n",
      "2019-05-25  0.187497  1.122150 -0.988277 -1.985934\n",
      "2019-05-26  0.360803 -0.562243 -0.340693 -0.986988\n",
      "2019-05-27 -0.040627  0.067333 -0.452978  0.686223\n",
      "2019-05-28 -0.279572 -0.702492  0.252265  0.958977\n",
      "2019-05-29  0.537438 -1.737568  0.714727 -0.939288\n"
     ]
    }
   ],
   "source": [
    "print(df.head())"
   ]
  },
  {
   "cell_type": "code",
   "execution_count": 81,
   "id": "2851fc34",
   "metadata": {},
   "outputs": [
    {
     "name": "stdout",
     "output_type": "stream",
     "text": [
      "                   A         B         C         D\n",
      "2019-05-25  0.187497  1.122150 -0.988277 -1.985934\n",
      "2019-05-26  0.360803 -0.562243 -0.340693 -0.986988\n",
      "2019-05-27 -0.040627  0.067333 -0.452978  0.686223\n",
      "2019-05-28 -0.279572 -0.702492  0.252265  0.958977\n",
      "2019-05-29  0.537438 -1.737568  0.714727 -0.939288\n",
      "2019-05-30  0.070011 -0.516443 -1.655689  0.246721\n",
      "2019-05-31  0.001268  0.951517  2.107360 -0.108726\n",
      "2019-06-01 -0.185258  0.856520 -0.686285  1.104195\n"
     ]
    }
   ],
   "source": [
    "print(df.head(8)) # prints out the first 8 rows"
   ]
  },
  {
   "cell_type": "code",
   "execution_count": 82,
   "id": "9acf3df1",
   "metadata": {},
   "outputs": [
    {
     "name": "stdout",
     "output_type": "stream",
     "text": [
      "                   A         B         C         D\n",
      "2019-05-30  0.070011 -0.516443 -1.655689  0.246721\n",
      "2019-05-31  0.001268  0.951517  2.107360 -0.108726\n",
      "2019-06-01 -0.185258  0.856520 -0.686285  1.104195\n",
      "2019-06-02  0.387023  1.706336 -2.452653  0.260466\n",
      "2019-06-03 -1.054974  0.556775 -0.945219 -0.030295\n"
     ]
    }
   ],
   "source": [
    "print(df.tail())"
   ]
  },
  {
   "cell_type": "code",
   "execution_count": 83,
   "id": "50948b1c",
   "metadata": {},
   "outputs": [
    {
     "name": "stdout",
     "output_type": "stream",
     "text": [
      "                   A         B         C         D\n",
      "2019-05-27 -0.040627  0.067333 -0.452978  0.686223\n",
      "2019-05-28 -0.279572 -0.702492  0.252265  0.958977\n",
      "2019-05-29  0.537438 -1.737568  0.714727 -0.939288\n",
      "2019-05-30  0.070011 -0.516443 -1.655689  0.246721\n",
      "2019-05-31  0.001268  0.951517  2.107360 -0.108726\n",
      "2019-06-01 -0.185258  0.856520 -0.686285  1.104195\n",
      "2019-06-02  0.387023  1.706336 -2.452653  0.260466\n",
      "2019-06-03 -1.054974  0.556775 -0.945219 -0.030295\n"
     ]
    }
   ],
   "source": [
    "print(df.tail(8)) # prints out the last 8 rowsprint(df.tail(8)) # prints out the last 8 rows"
   ]
  },
  {
   "cell_type": "code",
   "execution_count": 84,
   "id": "002ad381",
   "metadata": {},
   "outputs": [
    {
     "name": "stdout",
     "output_type": "stream",
     "text": [
      "2019-05-25    0.187497\n",
      "2019-05-26    0.360803\n",
      "2019-05-27   -0.040627\n",
      "2019-05-28   -0.279572\n",
      "2019-05-29    0.537438\n",
      "2019-05-30    0.070011\n",
      "2019-05-31    0.001268\n",
      "2019-06-01   -0.185258\n",
      "2019-06-02    0.387023\n",
      "2019-06-03   -1.054974\n",
      "Freq: D, Name: A, dtype: float64\n",
      "2019-05-25    0.187497\n",
      "2019-05-26    0.360803\n",
      "2019-05-27   -0.040627\n",
      "2019-05-28   -0.279572\n",
      "2019-05-29    0.537438\n",
      "2019-05-30    0.070011\n",
      "2019-05-31    0.001268\n",
      "2019-06-01   -0.185258\n",
      "2019-06-02    0.387023\n",
      "2019-06-03   -1.054974\n",
      "Freq: D, Name: A, dtype: float64\n"
     ]
    }
   ],
   "source": [
    "print(df['A'])\n",
    "# same as\n",
    "print(df.A)"
   ]
  },
  {
   "cell_type": "code",
   "execution_count": 85,
   "id": "14299ca9",
   "metadata": {},
   "outputs": [
    {
     "name": "stdout",
     "output_type": "stream",
     "text": [
      "                   A         B\n",
      "2019-05-25  0.187497  1.122150\n",
      "2019-05-26  0.360803 -0.562243\n",
      "2019-05-27 -0.040627  0.067333\n",
      "2019-05-28 -0.279572 -0.702492\n",
      "2019-05-29  0.537438 -1.737568\n",
      "2019-05-30  0.070011 -0.516443\n",
      "2019-05-31  0.001268  0.951517\n",
      "2019-06-01 -0.185258  0.856520\n",
      "2019-06-02  0.387023  1.706336\n",
      "2019-06-03 -1.054974  0.556775\n"
     ]
    }
   ],
   "source": [
    "print(df[['A', 'B']])"
   ]
  },
  {
   "cell_type": "code",
   "execution_count": 86,
   "id": "0b2617e2",
   "metadata": {},
   "outputs": [
    {
     "name": "stdout",
     "output_type": "stream",
     "text": [
      "                   A         B         C         D\n",
      "2019-05-27 -0.040627  0.067333 -0.452978  0.686223\n",
      "2019-05-28 -0.279572 -0.702492  0.252265  0.958977\n"
     ]
    }
   ],
   "source": [
    "print(df[2:4])"
   ]
  },
  {
   "cell_type": "code",
   "execution_count": 87,
   "id": "49319890",
   "metadata": {},
   "outputs": [
    {
     "name": "stdout",
     "output_type": "stream",
     "text": [
      "                   A         B         C         D\n",
      "2019-05-27 -0.040627  0.067333 -0.452978  0.686223\n",
      "2019-05-28 -0.279572 -0.702492  0.252265  0.958977\n"
     ]
    }
   ],
   "source": [
    "print(df.iloc[2:4])"
   ]
  },
  {
   "cell_type": "code",
   "execution_count": 88,
   "id": "c9b71d03",
   "metadata": {},
   "outputs": [
    {
     "name": "stdout",
     "output_type": "stream",
     "text": [
      "                   A         B         C         D\n",
      "2019-05-27 -0.040627  0.067333 -0.452978  0.686223\n",
      "2019-05-29  0.537438 -1.737568  0.714727 -0.939288\n"
     ]
    }
   ],
   "source": [
    "print(df.iloc[[2,4]])"
   ]
  },
  {
   "cell_type": "code",
   "execution_count": 90,
   "id": "0db7fa0c",
   "metadata": {},
   "outputs": [
    {
     "name": "stdout",
     "output_type": "stream",
     "text": [
      "A   -0.040627\n",
      "B    0.067333\n",
      "C   -0.452978\n",
      "D    0.686223\n",
      "Name: 2019-05-27 00:00:00, dtype: float64\n"
     ]
    }
   ],
   "source": [
    "print(df.iloc[2]) # prints out row number 2"
   ]
  },
  {
   "cell_type": "code",
   "execution_count": 91,
   "id": "f3b30598",
   "metadata": {},
   "outputs": [
    {
     "name": "stdout",
     "output_type": "stream",
     "text": [
      "                   B         C         D\n",
      "2019-05-27  0.067333 -0.452978  0.686223\n",
      "2019-05-28 -0.702492  0.252265  0.958977\n"
     ]
    }
   ],
   "source": [
    "print(df.iloc[2:4, 1:4])"
   ]
  },
  {
   "cell_type": "code",
   "execution_count": 92,
   "id": "84e2b8da",
   "metadata": {},
   "outputs": [
    {
     "name": "stdout",
     "output_type": "stream",
     "text": [
      "                   B         D\n",
      "2019-05-27  0.067333  0.686223\n",
      "2019-05-29 -1.737568 -0.939288\n"
     ]
    }
   ],
   "source": [
    "print(df.iloc[[2,4], [1,3]])"
   ]
  },
  {
   "cell_type": "code",
   "execution_count": 93,
   "id": "0008ecad",
   "metadata": {},
   "outputs": [
    {
     "name": "stdout",
     "output_type": "stream",
     "text": [
      "                   A         B         C         D\n",
      "2019-06-01 -0.185258  0.856520 -0.686285  1.104195\n",
      "2019-06-02  0.387023  1.706336 -2.452653  0.260466\n",
      "2019-06-03 -1.054974  0.556775 -0.945219 -0.030295\n"
     ]
    }
   ],
   "source": [
    "print(df['20190601':'20190603'])"
   ]
  },
  {
   "cell_type": "code",
   "execution_count": 94,
   "id": "41a56aa8",
   "metadata": {},
   "outputs": [
    {
     "name": "stdout",
     "output_type": "stream",
     "text": [
      "                   A         B         C         D\n",
      "2019-06-01 -0.185258  0.856520 -0.686285  1.104195\n",
      "2019-06-02  0.387023  1.706336 -2.452653  0.260466\n",
      "2019-06-03 -1.054974  0.556775 -0.945219 -0.030295\n"
     ]
    }
   ],
   "source": [
    "print(df.loc['20190601':'20190603'])"
   ]
  },
  {
   "cell_type": "code",
   "execution_count": 95,
   "id": "36b14198",
   "metadata": {},
   "outputs": [
    {
     "name": "stdout",
     "output_type": "stream",
     "text": [
      "                   A         B         C\n",
      "2019-06-01 -0.185258  0.856520 -0.686285\n",
      "2019-06-02  0.387023  1.706336 -2.452653\n",
      "2019-06-03 -1.054974  0.556775 -0.945219\n"
     ]
    }
   ],
   "source": [
    "print(df.loc['20190601':'20190603', 'A':'C'])"
   ]
  },
  {
   "cell_type": "code",
   "execution_count": 96,
   "id": "d4efeb2f",
   "metadata": {},
   "outputs": [
    {
     "name": "stdout",
     "output_type": "stream",
     "text": [
      "                   A         C\n",
      "2019-06-01 -0.185258 -0.686285\n",
      "2019-06-02  0.387023 -2.452653\n",
      "2019-06-03 -1.054974 -0.945219\n"
     ]
    }
   ],
   "source": [
    "print(df.loc['20190601':'20190603', ['A','C']])"
   ]
  },
  {
   "cell_type": "code",
   "execution_count": 97,
   "id": "2bc09113",
   "metadata": {},
   "outputs": [
    {
     "name": "stdout",
     "output_type": "stream",
     "text": [
      "A   -0.185258\n",
      "B    0.856520\n",
      "C   -0.686285\n",
      "D    1.104195\n",
      "Name: 2019-06-01 00:00:00, dtype: float64\n"
     ]
    }
   ],
   "source": [
    "print(df.loc['20190601'])"
   ]
  },
  {
   "cell_type": "code",
   "execution_count": 98,
   "id": "7af52f46",
   "metadata": {},
   "outputs": [
    {
     "name": "stdout",
     "output_type": "stream",
     "text": [
      "                   A         B         C         D\n",
      "2019-06-01 -0.185258  0.856520 -0.686285  1.104195\n",
      "2019-06-03 -1.054974  0.556775 -0.945219 -0.030295\n"
     ]
    }
   ],
   "source": [
    "print(df.loc[['20190601','20190603']]) # KeyError"
   ]
  },
  {
   "cell_type": "code",
   "execution_count": 99,
   "id": "131241b8",
   "metadata": {},
   "outputs": [
    {
     "name": "stdout",
     "output_type": "stream",
     "text": [
      "                   A         B         C         D\n",
      "2019-06-01 -0.185258  0.856520 -0.686285  1.104195\n",
      "2019-06-03 -1.054974  0.556775 -0.945219 -0.030295\n"
     ]
    }
   ],
   "source": [
    "from datetime import datetime\n",
    "date1 = datetime(2019, 6, 1, 0, 0, 0)\n",
    "date2 = datetime(2019, 6, 3, 0, 0, 0)\n",
    "print(df.loc[[date1,date2]])"
   ]
  },
  {
   "cell_type": "code",
   "execution_count": 100,
   "id": "55e2a108",
   "metadata": {},
   "outputs": [
    {
     "name": "stdout",
     "output_type": "stream",
     "text": [
      "A   -0.185258\n",
      "C   -0.686285\n",
      "Name: 2019-06-01 00:00:00, dtype: float64\n"
     ]
    }
   ],
   "source": [
    "print(df.loc[date1, ['A','C']])"
   ]
  },
  {
   "cell_type": "code",
   "execution_count": 101,
   "id": "ace2f7e4",
   "metadata": {},
   "outputs": [
    {
     "name": "stdout",
     "output_type": "stream",
     "text": [
      "0.556775\n"
     ]
    }
   ],
   "source": [
    "from datetime import datetime\n",
    "d = datetime(2019, 6, 3, 0, 0, 0)\n",
    "print(df.at[d,'B'])"
   ]
  },
  {
   "cell_type": "code",
   "execution_count": 102,
   "id": "0ea5bd69",
   "metadata": {},
   "outputs": [
    {
     "name": "stdout",
     "output_type": "stream",
     "text": [
      "                   A         B         C         D\n",
      "2019-05-25  0.187497  1.122150 -0.988277 -1.985934\n",
      "2019-05-31  0.001268  0.951517  2.107360 -0.108726\n",
      "2019-06-02  0.387023  1.706336 -2.452653  0.260466\n"
     ]
    }
   ],
   "source": [
    "print(df[(df.A > 0) & (df.B>0)])"
   ]
  },
  {
   "cell_type": "code",
   "execution_count": 103,
   "id": "b81c73a4",
   "metadata": {},
   "outputs": [
    {
     "name": "stdout",
     "output_type": "stream",
     "text": [
      "   2019-05-25  2019-05-26  2019-05-27  2019-05-28  2019-05-29  2019-05-30  \\\n",
      "A    0.187497    0.360803   -0.040627   -0.279572    0.537438    0.070011   \n",
      "B    1.122150   -0.562243    0.067333   -0.702492   -1.737568   -0.516443   \n",
      "C   -0.988277   -0.340693   -0.452978    0.252265    0.714727   -1.655689   \n",
      "D   -1.985934   -0.986988    0.686223    0.958977   -0.939288    0.246721   \n",
      "\n",
      "   2019-05-31  2019-06-01  2019-06-02  2019-06-03  \n",
      "A    0.001268   -0.185258    0.387023   -1.054974  \n",
      "B    0.951517    0.856520    1.706336    0.556775  \n",
      "C    2.107360   -0.686285   -2.452653   -0.945219  \n",
      "D   -0.108726    1.104195    0.260466   -0.030295  \n"
     ]
    }
   ],
   "source": [
    "print(df.transpose())"
   ]
  },
  {
   "cell_type": "code",
   "execution_count": 104,
   "id": "ee63c135",
   "metadata": {},
   "outputs": [
    {
     "name": "stdout",
     "output_type": "stream",
     "text": [
      "   2019-05-25  2019-05-26  2019-05-27  2019-05-28  2019-05-29  2019-05-30  \\\n",
      "A    0.187497    0.360803   -0.040627   -0.279572    0.537438    0.070011   \n",
      "B    1.122150   -0.562243    0.067333   -0.702492   -1.737568   -0.516443   \n",
      "C   -0.988277   -0.340693   -0.452978    0.252265    0.714727   -1.655689   \n",
      "D   -1.985934   -0.986988    0.686223    0.958977   -0.939288    0.246721   \n",
      "\n",
      "   2019-05-31  2019-06-01  2019-06-02  2019-06-03  \n",
      "A    0.001268   -0.185258    0.387023   -1.054974  \n",
      "B    0.951517    0.856520    1.706336    0.556775  \n",
      "C    2.107360   -0.686285   -2.452653   -0.945219  \n",
      "D   -0.108726    1.104195    0.260466   -0.030295  \n"
     ]
    }
   ],
   "source": [
    "print(df.T)"
   ]
  },
  {
   "cell_type": "code",
   "execution_count": 106,
   "id": "6fc6b54d",
   "metadata": {},
   "outputs": [],
   "source": [
    "def checkSeriesOrDataframe(var):\n",
    "    if isinstance(var, pd.DataFrame):\n",
    "        return 'Dataframe'\n",
    "    if isinstance(var, pd.Series):\n",
    "        return 'Series'"
   ]
  },
  {
   "cell_type": "code",
   "execution_count": 107,
   "id": "323b6cb6",
   "metadata": {},
   "outputs": [
    {
     "name": "stdout",
     "output_type": "stream",
     "text": [
      "                   A         B         C         D\n",
      "2019-06-03 -1.054974  0.556775 -0.945219 -0.030295\n",
      "2019-06-02  0.387023  1.706336 -2.452653  0.260466\n",
      "2019-06-01 -0.185258  0.856520 -0.686285  1.104195\n",
      "2019-05-31  0.001268  0.951517  2.107360 -0.108726\n",
      "2019-05-30  0.070011 -0.516443 -1.655689  0.246721\n",
      "2019-05-29  0.537438 -1.737568  0.714727 -0.939288\n",
      "2019-05-28 -0.279572 -0.702492  0.252265  0.958977\n",
      "2019-05-27 -0.040627  0.067333 -0.452978  0.686223\n",
      "2019-05-26  0.360803 -0.562243 -0.340693 -0.986988\n",
      "2019-05-25  0.187497  1.122150 -0.988277 -1.985934\n"
     ]
    }
   ],
   "source": [
    "print(df.sort_index(axis=0, ascending=False)) # axis = 0 means sort by\n",
    "# index"
   ]
  },
  {
   "cell_type": "code",
   "execution_count": 108,
   "id": "a4765235",
   "metadata": {},
   "outputs": [
    {
     "name": "stdout",
     "output_type": "stream",
     "text": [
      "                   D         C         B         A\n",
      "2019-05-25 -1.985934 -0.988277  1.122150  0.187497\n",
      "2019-05-26 -0.986988 -0.340693 -0.562243  0.360803\n",
      "2019-05-27  0.686223 -0.452978  0.067333 -0.040627\n",
      "2019-05-28  0.958977  0.252265 -0.702492 -0.279572\n",
      "2019-05-29 -0.939288  0.714727 -1.737568  0.537438\n",
      "2019-05-30  0.246721 -1.655689 -0.516443  0.070011\n",
      "2019-05-31 -0.108726  2.107360  0.951517  0.001268\n",
      "2019-06-01  1.104195 -0.686285  0.856520 -0.185258\n",
      "2019-06-02  0.260466 -2.452653  1.706336  0.387023\n",
      "2019-06-03 -0.030295 -0.945219  0.556775 -1.054974\n"
     ]
    }
   ],
   "source": [
    "print(df.sort_index(axis=1, ascending=False)) # axis = 1 means sort by\n",
    "# column"
   ]
  },
  {
   "cell_type": "code",
   "execution_count": 109,
   "id": "6b0d4e1b",
   "metadata": {},
   "outputs": [
    {
     "name": "stdout",
     "output_type": "stream",
     "text": [
      "                   A         B         C         D\n",
      "2019-06-03 -1.054974  0.556775 -0.945219 -0.030295\n",
      "2019-05-28 -0.279572 -0.702492  0.252265  0.958977\n",
      "2019-06-01 -0.185258  0.856520 -0.686285  1.104195\n",
      "2019-05-27 -0.040627  0.067333 -0.452978  0.686223\n",
      "2019-05-31  0.001268  0.951517  2.107360 -0.108726\n",
      "2019-05-30  0.070011 -0.516443 -1.655689  0.246721\n",
      "2019-05-25  0.187497  1.122150 -0.988277 -1.985934\n",
      "2019-05-26  0.360803 -0.562243 -0.340693 -0.986988\n",
      "2019-06-02  0.387023  1.706336 -2.452653  0.260466\n",
      "2019-05-29  0.537438 -1.737568  0.714727 -0.939288\n"
     ]
    }
   ],
   "source": [
    "print(df.sort_values('A', axis=0))"
   ]
  },
  {
   "cell_type": "code",
   "execution_count": 110,
   "id": "8ec81fef",
   "metadata": {},
   "outputs": [
    {
     "name": "stdout",
     "output_type": "stream",
     "text": [
      "                   C         A         B         D\n",
      "2019-05-25 -0.988277  0.187497  1.122150 -1.985934\n",
      "2019-05-26 -0.340693  0.360803 -0.562243 -0.986988\n",
      "2019-05-27 -0.452978 -0.040627  0.067333  0.686223\n",
      "2019-05-28  0.252265 -0.279572 -0.702492  0.958977\n",
      "2019-05-29  0.714727  0.537438 -1.737568 -0.939288\n",
      "2019-05-30 -1.655689  0.070011 -0.516443  0.246721\n",
      "2019-05-31  2.107360  0.001268  0.951517 -0.108726\n",
      "2019-06-01 -0.686285 -0.185258  0.856520  1.104195\n",
      "2019-06-02 -2.452653  0.387023  1.706336  0.260466\n",
      "2019-06-03 -0.945219 -1.054974  0.556775 -0.030295\n"
     ]
    }
   ],
   "source": [
    "print(df.sort_values('20190601', axis=1))"
   ]
  },
  {
   "cell_type": "code",
   "execution_count": 111,
   "id": "f3ad1786",
   "metadata": {},
   "outputs": [],
   "source": [
    "import math\n",
    "sq_root = lambda x: math.sqrt(x) if x > 0 else x\n",
    "sq = lambda x: x**2"
   ]
  },
  {
   "cell_type": "code",
   "execution_count": 112,
   "id": "931a99ee",
   "metadata": {},
   "outputs": [
    {
     "name": "stdout",
     "output_type": "stream",
     "text": [
      "2019-05-25    1.059316\n",
      "2019-05-26   -0.562243\n",
      "2019-05-27    0.259486\n",
      "2019-05-28   -0.702492\n",
      "2019-05-29   -1.737568\n",
      "2019-05-30   -0.516443\n",
      "2019-05-31    0.975457\n",
      "2019-06-01    0.925484\n",
      "2019-06-02    1.306268\n",
      "2019-06-03    0.746174\n",
      "Freq: D, Name: B, dtype: float64\n"
     ]
    }
   ],
   "source": [
    "print(df.B.apply(sq_root))"
   ]
  },
  {
   "cell_type": "code",
   "execution_count": 113,
   "id": "75319f16",
   "metadata": {},
   "outputs": [
    {
     "name": "stdout",
     "output_type": "stream",
     "text": [
      "2019-05-25    1.259221\n",
      "2019-05-26    0.316117\n",
      "2019-05-27    0.004534\n",
      "2019-05-28    0.493495\n",
      "2019-05-29    3.019143\n",
      "2019-05-30    0.266713\n",
      "2019-05-31    0.905385\n",
      "2019-06-01    0.733627\n",
      "2019-06-02    2.911583\n",
      "2019-06-03    0.309998\n",
      "Freq: D, Name: B, dtype: float64\n"
     ]
    }
   ],
   "source": [
    "print(df.B.apply(sq))"
   ]
  },
  {
   "cell_type": "code",
   "execution_count": 118,
   "id": "d3870aa1",
   "metadata": {},
   "outputs": [
    {
     "data": {
      "text/html": [
       "<div>\n",
       "<style scoped>\n",
       "    .dataframe tbody tr th:only-of-type {\n",
       "        vertical-align: middle;\n",
       "    }\n",
       "\n",
       "    .dataframe tbody tr th {\n",
       "        vertical-align: top;\n",
       "    }\n",
       "\n",
       "    .dataframe thead th {\n",
       "        text-align: right;\n",
       "    }\n",
       "</style>\n",
       "<table border=\"1\" class=\"dataframe\">\n",
       "  <thead>\n",
       "    <tr style=\"text-align: right;\">\n",
       "      <th></th>\n",
       "      <th>A</th>\n",
       "      <th>B</th>\n",
       "      <th>C</th>\n",
       "      <th>D</th>\n",
       "    </tr>\n",
       "  </thead>\n",
       "  <tbody>\n",
       "    <tr>\n",
       "      <th>2019-05-25</th>\n",
       "      <td>0.035155</td>\n",
       "      <td>1.259221</td>\n",
       "      <td>0.976691</td>\n",
       "      <td>3.943934</td>\n",
       "    </tr>\n",
       "    <tr>\n",
       "      <th>2019-05-26</th>\n",
       "      <td>0.130179</td>\n",
       "      <td>0.316117</td>\n",
       "      <td>0.116072</td>\n",
       "      <td>0.974145</td>\n",
       "    </tr>\n",
       "    <tr>\n",
       "      <th>2019-05-27</th>\n",
       "      <td>0.001651</td>\n",
       "      <td>0.004534</td>\n",
       "      <td>0.205189</td>\n",
       "      <td>0.470902</td>\n",
       "    </tr>\n",
       "    <tr>\n",
       "      <th>2019-05-28</th>\n",
       "      <td>0.078161</td>\n",
       "      <td>0.493495</td>\n",
       "      <td>0.063638</td>\n",
       "      <td>0.919637</td>\n",
       "    </tr>\n",
       "    <tr>\n",
       "      <th>2019-05-29</th>\n",
       "      <td>0.288840</td>\n",
       "      <td>3.019143</td>\n",
       "      <td>0.510835</td>\n",
       "      <td>0.882262</td>\n",
       "    </tr>\n",
       "    <tr>\n",
       "      <th>2019-05-30</th>\n",
       "      <td>0.004902</td>\n",
       "      <td>0.266713</td>\n",
       "      <td>2.741306</td>\n",
       "      <td>0.060871</td>\n",
       "    </tr>\n",
       "    <tr>\n",
       "      <th>2019-05-31</th>\n",
       "      <td>0.000002</td>\n",
       "      <td>0.905385</td>\n",
       "      <td>4.440966</td>\n",
       "      <td>0.011821</td>\n",
       "    </tr>\n",
       "    <tr>\n",
       "      <th>2019-06-01</th>\n",
       "      <td>0.034321</td>\n",
       "      <td>0.733627</td>\n",
       "      <td>0.470987</td>\n",
       "      <td>1.219247</td>\n",
       "    </tr>\n",
       "    <tr>\n",
       "      <th>2019-06-02</th>\n",
       "      <td>0.149787</td>\n",
       "      <td>2.911583</td>\n",
       "      <td>6.015507</td>\n",
       "      <td>0.067843</td>\n",
       "    </tr>\n",
       "    <tr>\n",
       "      <th>2019-06-03</th>\n",
       "      <td>1.112970</td>\n",
       "      <td>0.309998</td>\n",
       "      <td>0.893439</td>\n",
       "      <td>0.000918</td>\n",
       "    </tr>\n",
       "  </tbody>\n",
       "</table>\n",
       "</div>"
      ],
      "text/plain": [
       "                   A         B         C         D\n",
       "2019-05-25  0.035155  1.259221  0.976691  3.943934\n",
       "2019-05-26  0.130179  0.316117  0.116072  0.974145\n",
       "2019-05-27  0.001651  0.004534  0.205189  0.470902\n",
       "2019-05-28  0.078161  0.493495  0.063638  0.919637\n",
       "2019-05-29  0.288840  3.019143  0.510835  0.882262\n",
       "2019-05-30  0.004902  0.266713  2.741306  0.060871\n",
       "2019-05-31  0.000002  0.905385  4.440966  0.011821\n",
       "2019-06-01  0.034321  0.733627  0.470987  1.219247\n",
       "2019-06-02  0.149787  2.911583  6.015507  0.067843\n",
       "2019-06-03  1.112970  0.309998  0.893439  0.000918"
      ]
     },
     "execution_count": 118,
     "metadata": {},
     "output_type": "execute_result"
    }
   ],
   "source": [
    "df.apply(sq)\n",
    "        "
   ]
  },
  {
   "cell_type": "code",
   "execution_count": 119,
   "id": "043e6fe9",
   "metadata": {},
   "outputs": [
    {
     "name": "stdout",
     "output_type": "stream",
     "text": [
      "                   A         B         C         D\n",
      "2019-05-25  0.433009  1.059316 -0.988277 -1.985934\n",
      "2019-05-26  0.600669 -0.562243 -0.340693 -0.986988\n",
      "2019-05-27 -0.040627  0.259486 -0.452978  0.828386\n",
      "2019-05-28 -0.279572 -0.702492  0.502260  0.979274\n",
      "2019-05-29  0.733102 -1.737568  0.845415 -0.939288\n",
      "2019-05-30  0.264596 -0.516443 -1.655689  0.496710\n",
      "2019-05-31  0.035609  0.975457  1.451675 -0.108726\n",
      "2019-06-01 -0.185258  0.925484 -0.686285  1.050807\n",
      "2019-06-02  0.622112  1.306268 -2.452653  0.510359\n",
      "2019-06-03 -1.054974  0.746174 -0.945219 -0.030295\n"
     ]
    }
   ],
   "source": [
    "for column in df:\n",
    "    df[column] = df[column].apply(sq_root)\n",
    "print(df)"
   ]
  },
  {
   "cell_type": "code",
   "execution_count": 120,
   "id": "b9d54c2c",
   "metadata": {},
   "outputs": [
    {
     "name": "stdout",
     "output_type": "stream",
     "text": [
      "A    1.128665\n",
      "B    1.753438\n",
      "C   -4.722444\n",
      "D   -0.185696\n",
      "dtype: float64\n"
     ]
    }
   ],
   "source": [
    "print(df.apply(np.sum, axis=0))"
   ]
  },
  {
   "cell_type": "code",
   "execution_count": 122,
   "id": "8c778c17",
   "metadata": {},
   "outputs": [
    {
     "name": "stdout",
     "output_type": "stream",
     "text": [
      "2019-05-25   -1.481886\n",
      "2019-05-26   -1.289255\n",
      "2019-05-27    0.594267\n",
      "2019-05-28    0.499470\n",
      "2019-05-29   -1.098339\n",
      "2019-05-30   -1.410826\n",
      "2019-05-31    2.354015\n",
      "2019-06-01    1.104747\n",
      "2019-06-02   -0.013915\n",
      "2019-06-03   -1.284314\n",
      "Freq: D, dtype: float64\n"
     ]
    }
   ],
   "source": [
    "print(df.apply(np.sum, axis=1))"
   ]
  },
  {
   "cell_type": "code",
   "execution_count": 123,
   "id": "db3ffe48",
   "metadata": {},
   "outputs": [
    {
     "name": "stdout",
     "output_type": "stream",
     "text": [
      "              name  year  reports\n",
      "Singapore    Janet  2012        6\n",
      "China          Nad  2012       13\n",
      "Japan      Timothy  2013       14\n",
      "Sweden        June  2014        1\n",
      "Norway         Amy  2014        7\n"
     ]
    }
   ],
   "source": [
    "import pandas as pd\n",
    "data = {'name': ['Janet', 'Nad', 'Timothy', 'June', 'Amy'],\n",
    "        'year': [2012, 2012, 2013, 2014, 2014],\n",
    "        'reports': [6, 13, 14, 1, 7]}\n",
    "df = pd.DataFrame(data, index =\n",
    "        ['Singapore', 'China', 'Japan', 'Sweden', 'Norway'])\n",
    "print(df)"
   ]
  },
  {
   "cell_type": "code",
   "execution_count": 124,
   "id": "0ccffd54",
   "metadata": {},
   "outputs": [
    {
     "name": "stdout",
     "output_type": "stream",
     "text": [
      "              name  year  reports     school\n",
      "Singapore    Janet  2012        6  Cambridge\n",
      "China          Nad  2012       13     Oxford\n",
      "Japan      Timothy  2013       14     Oxford\n",
      "Sweden        June  2014        1  Cambridge\n",
      "Norway         Amy  2014        7     Oxford\n"
     ]
    }
   ],
   "source": [
    "import numpy as np\n",
    "schools = np.array([\"Cambridge\",\"Oxford\",\"Oxford\",\"Cambridge\",\"Oxford\"])\n",
    "df[\"school\"] = schools\n",
    "print(df)"
   ]
  },
  {
   "cell_type": "code",
   "execution_count": 125,
   "id": "0ed8b3a4",
   "metadata": {},
   "outputs": [
    {
     "name": "stdout",
     "output_type": "stream",
     "text": [
      "            name  year  reports     school\n",
      "Singapore  Janet  2012        6  Cambridge\n",
      "Sweden      June  2014        1  Cambridge\n",
      "Norway       Amy  2014        7     Oxford\n"
     ]
    }
   ],
   "source": [
    "print(df.drop(['China', 'Japan'])) # drop rows based on value of index"
   ]
  },
  {
   "cell_type": "code",
   "execution_count": 126,
   "id": "075dc0ca",
   "metadata": {},
   "outputs": [
    {
     "name": "stdout",
     "output_type": "stream",
     "text": [
      "              name  year  reports     school\n",
      "Singapore    Janet  2012        6  Cambridge\n",
      "Japan      Timothy  2013       14     Oxford\n",
      "Sweden        June  2014        1  Cambridge\n",
      "Norway         Amy  2014        7     Oxford\n"
     ]
    }
   ],
   "source": [
    "print(df[df.name != 'Nad']) # drop row based on column value"
   ]
  },
  {
   "cell_type": "code",
   "execution_count": 127,
   "id": "efa4de31",
   "metadata": {},
   "outputs": [
    {
     "name": "stdout",
     "output_type": "stream",
     "text": [
      "              name  year  reports     school\n",
      "Singapore    Janet  2012        6  Cambridge\n",
      "Japan      Timothy  2013       14     Oxford\n",
      "Sweden        June  2014        1  Cambridge\n",
      "Norway         Amy  2014        7     Oxford\n"
     ]
    }
   ],
   "source": [
    "print(df.drop(df.index[1]))"
   ]
  },
  {
   "cell_type": "code",
   "execution_count": 129,
   "id": "b3623f8a",
   "metadata": {},
   "outputs": [
    {
     "name": "stdout",
     "output_type": "stream",
     "text": [
      "            name  year  reports     school\n",
      "Singapore  Janet  2012        6  Cambridge\n",
      "Sweden      June  2014        1  Cambridge\n",
      "Norway       Amy  2014        7     Oxford\n"
     ]
    }
   ],
   "source": [
    "print(df.drop(df.index[[1,2]])) # remove the second and third row"
   ]
  },
  {
   "cell_type": "code",
   "execution_count": 130,
   "id": "62303a37",
   "metadata": {},
   "outputs": [
    {
     "name": "stdout",
     "output_type": "stream",
     "text": [
      "              name  year  reports     school\n",
      "Singapore    Janet  2012        6  Cambridge\n",
      "China          Nad  2012       13     Oxford\n",
      "Japan      Timothy  2013       14     Oxford\n",
      "Norway         Amy  2014        7     Oxford\n"
     ]
    }
   ],
   "source": [
    "print(df.drop(df.index[-2])) # remove second last row"
   ]
  },
  {
   "cell_type": "code",
   "execution_count": 131,
   "id": "780d2c5a",
   "metadata": {},
   "outputs": [
    {
     "name": "stdout",
     "output_type": "stream",
     "text": [
      "              name  year     school\n",
      "Singapore    Janet  2012  Cambridge\n",
      "China          Nad  2012     Oxford\n",
      "Japan      Timothy  2013     Oxford\n",
      "Sweden        June  2014  Cambridge\n",
      "Norway         Amy  2014     Oxford\n"
     ]
    }
   ],
   "source": [
    "print(df.drop('reports', axis=1)) # drop column"
   ]
  },
  {
   "cell_type": "code",
   "execution_count": 132,
   "id": "a02d32cf",
   "metadata": {},
   "outputs": [
    {
     "name": "stdout",
     "output_type": "stream",
     "text": [
      "              name  reports     school\n",
      "Singapore    Janet        6  Cambridge\n",
      "China          Nad       13     Oxford\n",
      "Japan      Timothy       14     Oxford\n",
      "Sweden        June        1  Cambridge\n",
      "Norway         Amy        7     Oxford\n"
     ]
    }
   ],
   "source": [
    "print(df.drop(df.columns[1], axis=1)) # drop using columns number"
   ]
  },
  {
   "cell_type": "code",
   "execution_count": 133,
   "id": "5eeaece6",
   "metadata": {},
   "outputs": [
    {
     "name": "stdout",
     "output_type": "stream",
     "text": [
      "              name  reports\n",
      "Singapore    Janet        6\n",
      "China          Nad       13\n",
      "Japan      Timothy       14\n",
      "Sweden        June        1\n",
      "Norway         Amy        7\n"
     ]
    }
   ],
   "source": [
    "print(df.drop(df.columns[[1,3]], axis=1)) # drop multiple columns"
   ]
  },
  {
   "cell_type": "code",
   "execution_count": 134,
   "id": "4f3452e6",
   "metadata": {},
   "outputs": [
    {
     "name": "stdout",
     "output_type": "stream",
     "text": [
      "   Gender  Team\n",
      "0    Male     1\n",
      "1    Male     2\n",
      "2  Female     3\n",
      "3  Female     3\n",
      "4  Female     1\n"
     ]
    }
   ],
   "source": [
    "df = pd.DataFrame(\n",
    "    {\n",
    "        \"Gender\": ['Male','Male','Female','Female','Female'],\n",
    "        \"Team\" : [1,2,3,3,1]\n",
    "    })\n",
    "print(df)"
   ]
  },
  {
   "cell_type": "code",
   "execution_count": 135,
   "id": "5a13034d",
   "metadata": {},
   "outputs": [
    {
     "name": "stdout",
     "output_type": "stream",
     "text": [
      "Displaying the distribution of genders in each team\n",
      "Team    1  2  3\n",
      "Gender         \n",
      "Female  1  0  2\n",
      "Male    1  1  0\n"
     ]
    }
   ],
   "source": [
    "print(\"Displaying the distribution of genders in each team\")\n",
    "print(pd.crosstab(df.Gender, df.Team))"
   ]
  },
  {
   "cell_type": "code",
   "execution_count": 136,
   "id": "54ae9153",
   "metadata": {},
   "outputs": [
    {
     "name": "stdout",
     "output_type": "stream",
     "text": [
      "Gender  Female  Male\n",
      "Team                \n",
      "1            1     1\n",
      "2            0     1\n",
      "3            2     0\n"
     ]
    }
   ],
   "source": [
    "print(pd.crosstab(df.Team, df.Gender))"
   ]
  },
  {
   "cell_type": "code",
   "execution_count": 139,
   "id": "325e68c8",
   "metadata": {},
   "outputs": [
    {
     "data": {
      "text/plain": [
       "[<matplotlib.lines.Line2D at 0x1e29b1ff430>]"
      ]
     },
     "execution_count": 139,
     "metadata": {},
     "output_type": "execute_result"
    },
    {
     "data": {
      "image/png": "[encoded data removed]",
      "text/plain": [
       "<Figure size 640x480 with 1 Axes>"
      ]
     },
     "metadata": {},
     "output_type": "display_data"
    }
   ],
   "source": [
    "%matplotlib inline\n",
    "import matplotlib.pyplot as plt\n",
    "plt.plot(\n",
    "        [1,2,3,4,5,6,7,8,9,10],\n",
    "        [2,4.5,1,2,3.5,2,1,2,3,2]\n",
    ")\n"
   ]
  },
  {
   "cell_type": "code",
   "execution_count": 141,
   "id": "c272ea33",
   "metadata": {},
   "outputs": [
    {
     "data": {
      "text/plain": [
       "Text(0, 0.5, 'Grade')"
      ]
     },
     "execution_count": 141,
     "metadata": {},
     "output_type": "execute_result"
    },
    {
     "data": {
      "image/png": "[encoded data removed]",
      "text/plain": [
       "<Figure size 640x480 with 1 Axes>"
      ]
     },
     "metadata": {},
     "output_type": "display_data"
    }
   ],
   "source": [
    "%matplotlib inline\n",
    "import matplotlib.pyplot as plt\n",
    "from matplotlib import style\n",
    "style.use(\"ggplot\")\n",
    "plt.plot(\n",
    "[1,2,3,4,5,6,7,8,9,10],\n",
    "[2,4.5,1,2,3.5,2,1,2,3,2]\n",
    ")\n",
    "plt.title(\"Results\") # sets the title for the chart\n",
    "plt.xlabel(\"Semester\") # sets the label to use for the x-axis\n",
    "plt.ylabel(\"Grade\") # sets the label to use for the y-axis"
   ]
  },
  {
   "cell_type": "code",
   "execution_count": 144,
   "id": "11d2105d",
   "metadata": {},
   "outputs": [
    {
     "name": "stdout",
     "output_type": "stream",
     "text": [
      "['Solarize_Light2', '_classic_test_patch', '_mpl-gallery', '_mpl-gallery-nogrid', 'bmh', 'classic', 'dark_background', 'fast', 'fivethirtyeight', 'ggplot', 'grayscale', 'seaborn', 'seaborn-bright', 'seaborn-colorblind', 'seaborn-dark', 'seaborn-dark-palette', 'seaborn-darkgrid', 'seaborn-deep', 'seaborn-muted', 'seaborn-notebook', 'seaborn-paper', 'seaborn-pastel', 'seaborn-poster', 'seaborn-talk', 'seaborn-ticks', 'seaborn-white', 'seaborn-whitegrid', 'tableau-colorblind10']\n"
     ]
    }
   ],
   "source": [
    "print(style.available)"
   ]
  },
  {
   "cell_type": "code",
   "execution_count": 145,
   "id": "98e512ea",
   "metadata": {},
   "outputs": [
    {
     "data": {
      "text/plain": [
       "Text(0, 0.5, 'Grade')"
      ]
     },
     "execution_count": 145,
     "metadata": {},
     "output_type": "execute_result"
    },
    {
     "data": {
      "image/png": "[encoded data removed]",
      "text/plain": [
       "<Figure size 640x480 with 1 Axes>"
      ]
     },
     "metadata": {},
     "output_type": "display_data"
    }
   ],
   "source": [
    "%matplotlib inline\n",
    "import matplotlib.pyplot as plt\n",
    "from matplotlib import style\n",
    "style.use(\"ggplot\")\n",
    "plt.plot(\n",
    "        [1,2,3,4,5,6,7,8,9,10],\n",
    "        [2,4.5,1,2,3.5,2,1,2,3,2]\n",
    ")\n",
    "plt.plot(\n",
    "        [1,2,3,4,5,6,7,8,9,10],\n",
    "        [3,4,2,5,2,4,2.5,4,3.5,3]\n",
    ")\n",
    "plt.title(\"Results\") # sets the title for the chart\n",
    "plt.xlabel(\"Semester\") # sets the label to use for the x-axis\n",
    "plt.ylabel(\"Grade\") # sets the label to use for the y-axis"
   ]
  },
  {
   "cell_type": "code",
   "execution_count": 148,
   "id": "6b3daf9e",
   "metadata": {},
   "outputs": [
    {
     "data": {
      "text/plain": [
       "<matplotlib.legend.Legend at 0x1e29c35ac40>"
      ]
     },
     "execution_count": 148,
     "metadata": {},
     "output_type": "execute_result"
    },
    {
     "data": {
      "image/png": "[encoded data removed]",
      "text/plain": [
       "<Figure size 640x480 with 1 Axes>"
      ]
     },
     "metadata": {},
     "output_type": "display_data"
    }
   ],
   "source": [
    "%matplotlib inline\n",
    "import matplotlib.pyplot as plt\n",
    "from matplotlib import style\n",
    "style.use(\"ggplot\")\n",
    "plt.plot(\n",
    "        [1,2,3,4,5,6,7,8,9,10],\n",
    "        [2,4.5,1,2,3.5,2,1,2,3,2],\n",
    "        label=\"Jim\"\n",
    ")\n",
    "plt.plot(\n",
    "        [1,2,3,4,5,6,7,8,9,10],\n",
    "        [3,4,2,5,2,4,2.5,4,3.5,3],\n",
    "        label=\"Tom\"\n",
    ")\n",
    "plt.title(\"Results\") # sets the title for the chart\n",
    "plt.xlabel(\"Semester\") # sets the label to use for the x-axis\n",
    "plt.ylabel(\"Grade\") # sets the label to use for the y-axis\n",
    "plt.legend()"
   ]
  },
  {
   "cell_type": "code",
   "execution_count": 149,
   "id": "8011bff1",
   "metadata": {},
   "outputs": [
    {
     "data": {
      "image/png": "[encoded data removed]",
      "text/plain": [
       "<Figure size 640x480 with 1 Axes>"
      ]
     },
     "metadata": {},
     "output_type": "display_data"
    }
   ],
   "source": [
    "%matplotlib inline\n",
    "import matplotlib.pyplot as plt\n",
    "from matplotlib import style\n",
    "style.use(\"ggplot\")\n",
    "plt.bar(\n",
    "        [1,2,3,4,5,6,7,8,9,10],\n",
    "        [2,4.5,1,2,3.5,2,1,2,3,2],\n",
    "        label = \"Jim\",\n",
    "        color = \"m\", # m for magenta\n",
    "        align = \"center\"\n",
    ")\n",
    "plt.title(\"Results\")\n",
    "plt.xlabel(\"Semester\")\n",
    "plt.ylabel(\"Grade\")\n",
    "plt.legend()\n",
    "plt.grid(True, color=\"y\")"
   ]
  },
  {
   "cell_type": "code",
   "execution_count": 150,
   "id": "ac2d93b4",
   "metadata": {},
   "outputs": [
    {
     "data": {
      "image/png": "[encoded data removed]",
      "text/plain": [
       "<Figure size 640x480 with 1 Axes>"
      ]
     },
     "metadata": {},
     "output_type": "display_data"
    }
   ],
   "source": [
    "%matplotlib inline\n",
    "import matplotlib.pyplot as plt\n",
    "from matplotlib import style\n",
    "style.use(\"ggplot\")\n",
    "plt.bar(\n",
    "        [1,2,3,4,5,6,7,8,9,10],\n",
    "        [2,4.5,1,2,3.5,2,1,2,3,2],\n",
    "        label = \"Jim\",\n",
    "        color = \"m\", # for magenta\n",
    "        align = \"center\",\n",
    "        alpha = 0.5\n",
    ")\n",
    "plt.bar(\n",
    "        [1,2,3,4,5,6,7,8,9,10],\n",
    "        [1.2,4.1,0.3,4,5.5,4.7,4.8,5.2,1,1.1],\n",
    "        label = \"Tim\",\n",
    "        color = \"g\", # for green\n",
    "        align = \"center\",\n",
    "        alpha = 0.5\n",
    ")\n",
    "plt.title(\"Results\")\n",
    "plt.xlabel(\"Semester\")\n",
    "plt.ylabel(\"Grade\")\n",
    "plt.legend()\n",
    "plt.grid(True, color=\"y\")"
   ]
  },
  {
   "cell_type": "code",
   "execution_count": 1,
   "id": "90192d60",
   "metadata": {},
   "outputs": [
    {
     "data": {
      "image/png": "[encoded data removed]",
      "text/plain": [
       "<Figure size 640x480 with 1 Axes>"
      ]
     },
     "metadata": {},
     "output_type": "display_data"
    }
   ],
   "source": [
    "%matplotlib inline\n",
    "import matplotlib.pyplot as plt\n",
    "rainfall = [17,9,16,3,21,7,8,4,6,21,4,1]\n",
    "months = ['Jan','Feb','Mar','Apr','May','Jun',\n",
    "         'Jul','Aug','Sep','Oct','Nov','Dec']\n",
    "plt.bar(months, rainfall, align='center', color='orange' )\n",
    "plt.show()\n"
   ]
  },
  {
   "cell_type": "code",
   "execution_count": 2,
   "id": "205319bb",
   "metadata": {},
   "outputs": [
    {
     "data": {
      "image/png": "[encoded data removed]",
      "text/plain": [
       "<Figure size 640x480 with 1 Axes>"
      ]
     },
     "metadata": {},
     "output_type": "display_data"
    }
   ],
   "source": [
    "%matplotlib inline\n",
    "import matplotlib.pyplot as plt\n",
    "rainfall = [17,9,16,3,21,7,8,4,6,21,4,1]\n",
    "months = ['Jan','Feb','Mar','Apr','May','Jun',\n",
    "          'Jul','Aug','Sep','Oct','Nov','Dec']\n",
    "plt.bar(range(len(rainfall)), rainfall, align='center', color='orange' )\n",
    "plt.xticks(range(len(rainfall)), months, rotation='vertical')\n",
    "plt.show()"
   ]
  },
  {
   "cell_type": "code",
   "execution_count": 3,
   "id": "1a00b023",
   "metadata": {},
   "outputs": [
    {
     "data": {
      "image/png": "[encoded data removed]",
      "text/plain": [
       "<Figure size 640x480 with 1 Axes>"
      ]
     },
     "metadata": {},
     "output_type": "display_data"
    }
   ],
   "source": [
    "%matplotlib inline\n",
    "import matplotlib.pyplot as plt\n",
    "labels = [\"Chrome\", \"Internet Explorer\",\n",
    "          \"Firefox\", \"Edge\",\"Safari\",\n",
    "          \"Sogou Explorer\",\"Opera\",\"Others\"]\n",
    "marketshare = [61.64, 11.98, 11.02, 4.23, 3.79, 1.63, 1.52, 4.19]\n",
    "explode = (0,0,0,0,0,0,0,0)\n",
    "plt.pie(marketshare,\n",
    "        explode = explode, # fraction of the radius with which to\n",
    "# offset each wedge\n",
    "        labels = labels, \n",
    "        autopct=\"%.1f%%\", # string or function used to label the\n",
    "# wedges with their numeric value\n",
    "        shadow=True,\n",
    "        startangle=45) # rotates the start of the pie chart by\n",
    "# angle degrees counterclockwise from the\n",
    "\n",
    "# x-axis\n",
    "\n",
    "plt.axis(\"equal\") # turns off the axis lines and labels\n",
    "plt.title(\"Web Browser Marketshare - 2018\")\n",
    "plt.show()"
   ]
  },
  {
   "cell_type": "code",
   "execution_count": null,
   "id": "062723a0",
   "metadata": {},
   "outputs": [],
   "source": []
  }
 ],
 "metadata": {
  "kernelspec": {
   "display_name": "Python 3",
   "language": "python",
   "name": "python3"
  },
  "language_info": {
   "codemirror_mode": {
    "name": "ipython",
    "version": 3
   },
   "file_extension": ".py",
   "mimetype": "text/x-python",
   "name": "python",
   "nbconvert_exporter": "python",
   "pygments_lexer": "ipython3",
   "version": "3.10.0 (tags/v3.10.0:b494f59, Oct  4 2021, 19:00:18) [MSC v.1929 64 bit (AMD64)]"
  },
  "vscode": {
   "interpreter": {
    "hash": "8a44991a4104b2e7a0664df2d369b6eba42ee6000fe19a9a6e55b008932247e6"
   }
  }
 },
 "nbformat": 4,
 "nbformat_minor": 5
}
