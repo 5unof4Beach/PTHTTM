{
 "cells": [
  {
   "cell_type": "code",
   "execution_count": 39,
   "metadata": {},
   "outputs": [
    {
     "name": "stdout",
     "output_type": "stream",
     "text": [
      "Tensor(\"Const_7:0\", shape=(1,), dtype=float32)\n"
     ]
    }
   ],
   "source": [
    "# Constant trong tensorflow\n",
    "import tensorflow as tf\n",
    "x = tf.constant(5,tf.float32)\n",
    "y = tf.constant([5], tf.float32)\n",
    "z = tf.constant([5,3,4], tf.float32)\n",
    "t = tf.constant([[5,3,4,6],[2,3,4,7]], tf.float32)\n",
    "u = tf.constant([[[5,3,4,6],[2,3,4,0]]], tf.float32)\n",
    "v = tf.constant([[[5,3,4,6],[2,3,4,0]],\n",
    " [[5,3,4,6],[2,3,4,0]],\n",
    "[[5,3,4,6],[2,3,4,0]]\n",
    " ], tf.float32)\n",
    "print(y)\n"
   ]
  },
  {
   "cell_type": "code",
   "execution_count": 40,
   "metadata": {},
   "outputs": [
    {
     "name": "stdout",
     "output_type": "stream",
     "text": [
      "22.79\n"
     ]
    }
   ],
   "source": [
    "# Variable trong tensorflow\n",
    "import tensorflow.compat.v1 as tf\n",
    "\n",
    "tf.compat.v1.disable_eager_execution()\n",
    "x1 = tf.Variable(5.3, tf.float32)\n",
    "x2 = tf.Variable(4.3, tf.float32)\n",
    "x = tf.multiply(x1,x2)\n",
    "init = tf.global_variables_initializer()\n",
    "with tf.Session() as sess:\n",
    "  sess.run(init)\n",
    "  t = sess.run(x)\n",
    "  print(t)\n"
   ]
  },
  {
   "cell_type": "code",
   "execution_count": 41,
   "metadata": {},
   "outputs": [
    {
     "name": "stdout",
     "output_type": "stream",
     "text": [
      "[[22.79 19.35 42.  ]\n",
      " [22.79 19.35 42.  ]]\n"
     ]
    }
   ],
   "source": [
    "import tensorflow.compat.v1 as tf\n",
    "\n",
    "tf.compat.v1.disable_eager_execution()\n",
    "x1 = tf.Variable([[5.3,4.5,6.0],\n",
    " [4.3,4.3,7.0]\n",
    " ], tf.float32)\n",
    "x2 = tf.Variable([[4.3,4.3,7.0],\n",
    " [5.3,4.5,6.0]\n",
    " ], tf.float32)\n",
    "x = tf.multiply(x1,x2)\n",
    "\n",
    "init = tf.global_variables_initializer()\n",
    "with tf.Session() as sess:\n",
    "    sess.run(init)\n",
    "    t = sess.run(x)\n",
    "    print(t)"
   ]
  },
  {
   "cell_type": "code",
   "execution_count": 42,
   "metadata": {},
   "outputs": [
    {
     "name": "stdout",
     "output_type": "stream",
     "text": [
      "10.0\n"
     ]
    }
   ],
   "source": [
    "# Placeholder\n",
    "import tensorflow.compat.v1 as tf\n",
    "tf.compat.v1.disable_eager_execution()\n",
    "x = tf.placeholder(tf.float32,None)\n",
    "y = tf.add(x,x)\n",
    "with tf.Session() as sess:\n",
    " x_data= 5\n",
    " result = sess.run(y,feed_dict={x:x_data})\n",
    " print(result)\n"
   ]
  },
  {
   "cell_type": "code",
   "execution_count": 43,
   "metadata": {},
   "outputs": [
    {
     "name": "stdout",
     "output_type": "stream",
     "text": [
      "[[3.  4.  6.6]]\n"
     ]
    }
   ],
   "source": [
    "import tensorflow.compat.v1 as tf\n",
    "tf.compat.v1.disable_eager_execution()\n",
    "x = tf.placeholder(tf.float32,[None,3])\n",
    "y = tf.add(x,x)\n",
    "with tf.Session() as sess:\n",
    " x_data= [[1.5, 2.0, 3.3]]\n",
    " result = sess.run(y,feed_dict={x:x_data})\n",
    " print(result)\n"
   ]
  },
  {
   "cell_type": "code",
   "execution_count": 44,
   "metadata": {},
   "outputs": [
    {
     "name": "stdout",
     "output_type": "stream",
     "text": [
      "[[[2. 4. 6.]]]\n"
     ]
    }
   ],
   "source": [
    "import tensorflow.compat.v1 as tf\n",
    "tf.compat.v1.disable_eager_execution()\n",
    "x = tf.placeholder(tf.float32,[None,None,3])\n",
    "y = tf.add(x,x)\n",
    "with tf.Session() as sess:\n",
    " x_data= [[[1,2,3]]]\n",
    " result = sess.run(y,feed_dict={x:x_data})\n",
    " print(result)"
   ]
  },
  {
   "cell_type": "code",
   "execution_count": 45,
   "metadata": {},
   "outputs": [
    {
     "name": "stdout",
     "output_type": "stream",
     "text": [
      "[[[ 2.  4.  6.]\n",
      "  [ 4.  6.  8.]\n",
      "  [ 4.  6. 10.]\n",
      "  [ 0.  2.  4.]]]\n"
     ]
    }
   ],
   "source": [
    "import tensorflow.compat.v1 as tf\n",
    "tf.compat.v1.disable_eager_execution()\n",
    "x = tf.placeholder(tf.float32,[None,4,3])\n",
    "y = tf.add(x,x)\n",
    "with tf.Session() as sess:\n",
    " x_data= [[[1,2,3],\n",
    " [2,3,4],\n",
    " [2,3,5],\n",
    " [0,1,2]\n",
    " ]]\n",
    " result = sess.run(y,feed_dict={x:x_data})\n",
    " print(result)\n"
   ]
  },
  {
   "cell_type": "code",
   "execution_count": 46,
   "metadata": {},
   "outputs": [
    {
     "name": "stdout",
     "output_type": "stream",
     "text": [
      "[[[ 2.  4.  6.]\n",
      "  [ 4.  6.  8.]\n",
      "  [ 4.  6. 10.]\n",
      "  [ 0.  2.  4.]]\n",
      "\n",
      " [[ 2.  4.  6.]\n",
      "  [ 4.  6.  8.]\n",
      "  [ 4.  6. 10.]\n",
      "  [ 0.  2.  4.]]]\n"
     ]
    }
   ],
   "source": [
    "import tensorflow.compat.v1 as tf\n",
    "tf.compat.v1.disable_eager_execution()\n",
    "x = tf.placeholder(tf.float32,[2,4,3])\n",
    "y = tf.add(x,x)\n",
    "with tf.Session() as sess:\n",
    " x_data= [[[1,2,3],\n",
    " [2,3,4],\n",
    " [2,3,5],\n",
    " [0,1,2]\n",
    " ],\n",
    " [[1,2,3],\n",
    " [2,3,4],\n",
    " [2,3,5],\n",
    " [0,1,2]\n",
    " ]]\n",
    " result = sess.run(y,feed_dict={x:x_data})\n",
    " print(result)\n"
   ]
  },
  {
   "cell_type": "code",
   "execution_count": 47,
   "metadata": {},
   "outputs": [
    {
     "name": "stdout",
     "output_type": "stream",
     "text": [
      "result1 = [[[ 2.  4.  6.]\n",
      "  [ 4.  6.  8.]\n",
      "  [ 4.  6. 10.]\n",
      "  [ 0.  2.  4.]]\n",
      "\n",
      " [[ 2.  4.  6.]\n",
      "  [ 4.  6.  8.]\n",
      "  [ 4.  6. 10.]\n",
      "  [ 0.  2.  4.]]]\n",
      "result2 = [[[ 1.  4.  9.]\n",
      "  [ 4.  9. 16.]\n",
      "  [ 4.  9. 25.]\n",
      "  [ 0.  1.  4.]]\n",
      "\n",
      " [[ 1.  4.  9.]\n",
      "  [ 4.  9. 16.]\n",
      "  [ 4.  9. 25.]\n",
      "  [ 0.  1.  4.]]]\n"
     ]
    }
   ],
   "source": [
    "import tensorflow.compat.v1 as tf\n",
    "tf.compat.v1.disable_eager_execution()\n",
    "x = tf.placeholder(tf.float32,[2,4,3])\n",
    "y = tf.placeholder(tf.float32,[2,4,3])\n",
    "z = tf.add(x,y)\n",
    "u = tf.multiply(x,y)\n",
    "with tf.Session() as sess:\n",
    " x_data= [[[1,2,3],\n",
    " [2,3,4],\n",
    " [2,3,5],\n",
    " [0,1,2]\n",
    " ],\n",
    " [[1,2,3],\n",
    " [2,3,4],\n",
    " [2,3,5],\n",
    " [0,1,2]\n",
    " ]]\n",
    " y_data= [[[1,2,3],\n",
    " [2,3,4],\n",
    " [2,3,5],\n",
    " [0,1,2]\n",
    " ],\n",
    " [[1,2,3],\n",
    " [2,3,4],\n",
    " [2,3,5],\n",
    " [0,1,2]\n",
    " ]]\n",
    " result1 = sess.run(z,feed_dict={x:x_data, y:y_data})\n",
    " result2 = sess.run(u,feed_dict={x:x_data, y:y_data})\n",
    " print(\"result1 =\", result1)\n",
    " print(\"result2 =\", result2)\n"
   ]
  },
  {
   "cell_type": "code",
   "execution_count": 48,
   "metadata": {},
   "outputs": [
    {
     "name": "stdout",
     "output_type": "stream",
     "text": [
      "0.9885698\n"
     ]
    }
   ],
   "source": [
    "# Operation\n",
    "import tensorflow.compat.v1 as tf\n",
    "tf.compat.v1.disable_eager_execution()\n",
    "x1 = tf.constant(5.3, tf.float32)\n",
    "x2 = tf.constant(1.5, tf.float32)\n",
    "w1 = tf.Variable(0.7, tf.float32)\n",
    "w2 = tf.Variable(0.5, tf.float32)\n",
    "u = tf.multiply(x1,w1)\n",
    "v = tf.multiply(x2,w2)\n",
    "z = tf.add(u,v)\n",
    "result = tf.sigmoid(z)\n",
    "init = tf.global_variables_initializer()\n",
    "with tf.Session() as sess:\n",
    " sess.run(init)\n",
    " print(sess.run(result))"
   ]
  },
  {
   "cell_type": "code",
   "execution_count": 49,
   "metadata": {},
   "outputs": [
    {
     "name": "stdout",
     "output_type": "stream",
     "text": [
      "[[0.785835   0.85814893 0.9801597 ]]\n"
     ]
    }
   ],
   "source": [
    "import tensorflow.compat.v1 as tf\n",
    "tf.compat.v1.disable_eager_execution()\n",
    "x1 = tf.placeholder(tf.float32,[None,3])\n",
    "x2 = tf.placeholder(tf.float32,[None,3])\n",
    "w1 = tf.Variable([0.5,0.4,0.7],tf.float32)\n",
    "w2 = tf.Variable([0.8,0.5,0.6], tf.float32)\n",
    "\n",
    "u1 = tf.multiply(w1,x1)\n",
    "u2 = tf.multiply(w2,x2)\n",
    "v = tf.add(u1,u2)\n",
    "z = tf.sigmoid(v)\n",
    "init = tf.global_variables_initializer()\n",
    "with tf.Session() as sess:\n",
    " x1_data= [[1,2,3]]\n",
    " x2_data= [[1,2,3]]\n",
    " sess.run(init)\n",
    " result = sess.run(z,feed_dict={x1:x1_data, x2:x2_data})\n",
    " print(result)"
   ]
  },
  {
   "cell_type": "code",
   "execution_count": 52,
   "metadata": {},
   "outputs": [
    {
     "name": "stdout",
     "output_type": "stream",
     "text": [
      "Train on 1000 samples\n",
      "Epoch 1/10\n",
      "1000/1000 [==============================] - 0s 85us/sample - loss: 0.7171 - accuracy: 0.5070\n",
      "Epoch 2/10\n",
      "1000/1000 [==============================] - 0s 19us/sample - loss: 0.7051 - accuracy: 0.5020\n",
      "Epoch 3/10\n",
      "1000/1000 [==============================] - 0s 18us/sample - loss: 0.6997 - accuracy: 0.4930\n",
      "Epoch 4/10\n",
      "1000/1000 [==============================] - 0s 23us/sample - loss: 0.6974 - accuracy: 0.4950\n",
      "Epoch 5/10\n",
      "1000/1000 [==============================] - 0s 20us/sample - loss: 0.6962 - accuracy: 0.4960\n",
      "Epoch 6/10\n",
      "1000/1000 [==============================] - 0s 20us/sample - loss: 0.6959 - accuracy: 0.5060\n",
      "Epoch 7/10\n",
      "1000/1000 [==============================] - 0s 21us/sample - loss: 0.6952 - accuracy: 0.5120\n",
      "Epoch 8/10\n",
      "1000/1000 [==============================] - 0s 21us/sample - loss: 0.6949 - accuracy: 0.5080\n",
      "Epoch 9/10\n",
      "1000/1000 [==============================] - 0s 19us/sample - loss: 0.6945 - accuracy: 0.5130\n",
      "Epoch 10/10\n",
      "1000/1000 [==============================] - 0s 19us/sample - loss: 0.6942 - accuracy: 0.5040\n"
     ]
    }
   ],
   "source": [
    "#Import required packages\n",
    "from keras.models import Sequential\n",
    "from keras.layers import Dense\n",
    "import numpy as np\n",
    "\n",
    "np.random.seed(2018)\n",
    "train_data, test_data = np.random.random((1000, 3)), np.random.random((500, 3))\n",
    "\n",
    "labels = np.random.randint(2, size=(1000, 1))\n",
    "\n",
    "model = Sequential()\n",
    "model.add(Dense(5, input_dim=3, activation='relu'))\n",
    "model.add(Dense(4, activation='relu'))\n",
    "model.add(Dense(1, activation='sigmoid'))\n",
    "model.compile(loss='binary_crossentropy', optimizer='adam', metrics=['accuracy'])\n",
    "\n",
    "model.fit(train_data, labels, epochs=10, batch_size=32)\n",
    "\n",
    "predictions = model.predict(test_data)\n",
    "\n",
    "# print(predictions )\n"
   ]
  },
  {
   "cell_type": "code",
   "execution_count": 54,
   "metadata": {},
   "outputs": [
    {
     "name": "stdout",
     "output_type": "stream",
     "text": [
      "Train on 6000 samples, validate on 2000 samples\n",
      "Epoch 1/3\n",
      "6000/6000 [==============================] - 0s 41us/sample - loss: 0.6934 - accuracy: 0.4943 - val_loss: 0.6931 - val_accuracy: 0.5010\n",
      "Epoch 2/3\n",
      "6000/6000 [==============================] - 0s 12us/sample - loss: 0.6932 - accuracy: 0.4962 - val_loss: 0.6927 - val_accuracy: 0.5185\n",
      "Epoch 3/3\n"
     ]
    },
    {
     "name": "stderr",
     "output_type": "stream",
     "text": [
      "c:\\Users\\LeeJaeLee\\AppData\\Local\\Programs\\Python\\Python310\\lib\\site-packages\\keras\\engine\\training_v1.py:2333: UserWarning: `Model.state_updates` will be removed in a future version. This property should not be used in TensorFlow 2.0, as `updates` are applied automatically.\n",
      "  updates = self.state_updates\n"
     ]
    },
    {
     "name": "stdout",
     "output_type": "stream",
     "text": [
      "6000/6000 [==============================] - 0s 13us/sample - loss: 0.6931 - accuracy: 0.5022 - val_loss: 0.6928 - val_accuracy: 0.5150\n",
      "[0.69316916847229, 0.5075]\n",
      "['loss', 'accuracy']\n"
     ]
    },
    {
     "data": {
      "text/plain": [
       "array([[0.5034246 ],\n",
       "       [0.50593805],\n",
       "       [0.5063935 ],\n",
       "       [0.4945562 ],\n",
       "       [0.5053979 ],\n",
       "       [0.49981505],\n",
       "       [0.501139  ],\n",
       "       [0.5052259 ],\n",
       "       [0.5003386 ],\n",
       "       [0.49709842]], dtype=float32)"
      ]
     },
     "execution_count": 54,
     "metadata": {},
     "output_type": "execute_result"
    }
   ],
   "source": [
    "import numpy as np\n",
    "from keras.models import Sequential\n",
    "from keras.layers import Dense, Activation\n",
    "\n",
    "np.random.seed(2018)\n",
    "x_train = np.random.random((6000,10))\n",
    "y_train = np.random.randint(2, size=(6000, 1))\n",
    "\n",
    "x_val = np.random.random((2000,10))\n",
    "y_val = np.random.randint(2, size=(2000, 1))\n",
    "\n",
    "x_test = np.random.random((2000,10))\n",
    "y_test = np.random.randint(2, size=(2000, 1))\n",
    "\n",
    "model = Sequential()\n",
    "model.add(Dense(64, input_dim=10,activation = \"relu\")) #Layer 1\n",
    "model.add(Dense(32,activation = \"relu\")) #Layer 2\n",
    "model.add(Dense(16,activation = \"relu\")) #Layer 3\n",
    "model.add(Dense(8,activation = \"relu\")) #Layer 4\n",
    "model.add(Dense(4,activation = \"relu\")) #Layer 5\n",
    "model.add(Dense(1,activation = \"sigmoid\")) #OutputLayer\n",
    "\n",
    "model.compile(optimizer='Adam',loss='binary_crossentropy', metrics =['accuracy'])\n",
    "#Train the model\n",
    "model.fit(x_train, y_train, batch_size=64, epochs=3, validation_data=(x_val,y_val))\n",
    "\n",
    "print(model.evaluate(x_test,y_test))\n",
    "print(model.metrics_names)\n",
    "\n",
    "pred = model.predict(x_test)\n",
    "pred[:10]\n"
   ]
  }
 ],
 "metadata": {
  "kernelspec": {
   "display_name": "Python 3",
   "language": "python",
   "name": "python3"
  },
  "language_info": {
   "codemirror_mode": {
    "name": "ipython",
    "version": 3
   },
   "file_extension": ".py",
   "mimetype": "text/x-python",
   "name": "python",
   "nbconvert_exporter": "python",
   "pygments_lexer": "ipython3",
   "version": "3.10.0"
  },
  "orig_nbformat": 4,
  "vscode": {
   "interpreter": {
    "hash": "8a44991a4104b2e7a0664df2d369b6eba42ee6000fe19a9a6e55b008932247e6"
   }
  }
 },
 "nbformat": 4,
 "nbformat_minor": 2
}
